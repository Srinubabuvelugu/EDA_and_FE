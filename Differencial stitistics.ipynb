{
 "cells": [
  {
   "cell_type": "code",
   "execution_count": 1,
   "id": "05f82b6f",
   "metadata": {},
   "outputs": [],
   "source": [
    "import numpy as np\n",
    "from statistics import mode"
   ]
  },
  {
   "cell_type": "code",
   "execution_count": 2,
   "id": "ea90d38b",
   "metadata": {},
   "outputs": [
    {
     "data": {
      "text/plain": [
       "array([72, 88, 24, 53, 79, 45, 57, 31, 37, 51])"
      ]
     },
     "execution_count": 2,
     "metadata": {},
     "output_type": "execute_result"
    }
   ],
   "source": [
    "## it will generate 10 numbers in between the range 10 to 100\n",
    "np.random.randint(10,100,10)"
   ]
  },
  {
   "cell_type": "code",
   "execution_count": 3,
   "id": "c34cee85",
   "metadata": {},
   "outputs": [],
   "source": [
    "population=np.random.randint(10,100,50)"
   ]
  },
  {
   "cell_type": "code",
   "execution_count": 4,
   "id": "5991a752",
   "metadata": {},
   "outputs": [
    {
     "data": {
      "text/plain": [
       "array([99, 92, 45, 55, 23, 67, 84, 96, 88, 50, 59, 79, 77, 10, 48, 14, 22,\n",
       "       70, 47, 28, 82, 51, 67, 12, 82, 88, 13, 30, 63, 95, 99, 55, 75, 43,\n",
       "       70, 88, 56, 54, 86, 89, 17, 23, 85, 49, 21, 27, 62, 76, 58, 63])"
      ]
     },
     "execution_count": 4,
     "metadata": {},
     "output_type": "execute_result"
    }
   ],
   "source": [
    "population"
   ]
  },
  {
   "cell_type": "code",
   "execution_count": 5,
   "id": "1f8eb279",
   "metadata": {},
   "outputs": [
    {
     "data": {
      "text/plain": [
       "58.64"
      ]
     },
     "execution_count": 5,
     "metadata": {},
     "output_type": "execute_result"
    }
   ],
   "source": [
    "np.mean(population)"
   ]
  },
  {
   "cell_type": "code",
   "execution_count": 6,
   "id": "21a8305f",
   "metadata": {},
   "outputs": [
    {
     "data": {
      "text/plain": [
       "60.5"
      ]
     },
     "execution_count": 6,
     "metadata": {},
     "output_type": "execute_result"
    }
   ],
   "source": [
    "np.median(population)"
   ]
  },
  {
   "cell_type": "code",
   "execution_count": 7,
   "id": "1cc7ed10",
   "metadata": {},
   "outputs": [
    {
     "ename": "AttributeError",
     "evalue": "module 'numpy' has no attribute 'mode'",
     "output_type": "error",
     "traceback": [
      "\u001b[1;31m---------------------------------------------------------------------------\u001b[0m",
      "\u001b[1;31mAttributeError\u001b[0m                            Traceback (most recent call last)",
      "Cell \u001b[1;32mIn[7], line 1\u001b[0m\n\u001b[1;32m----> 1\u001b[0m \u001b[43mnp\u001b[49m\u001b[38;5;241;43m.\u001b[39;49m\u001b[43mmode\u001b[49m(population)\n",
      "File \u001b[1;32m~\\AppData\\Local\\Programs\\Python\\Python311\\Lib\\site-packages\\numpy\\__init__.py:322\u001b[0m, in \u001b[0;36m__getattr__\u001b[1;34m(attr)\u001b[0m\n\u001b[0;32m    319\u001b[0m     \u001b[38;5;124m\"\u001b[39m\u001b[38;5;124mRemoved in NumPy 1.25.0\u001b[39m\u001b[38;5;124m\"\u001b[39m\n\u001b[0;32m    320\u001b[0m     \u001b[38;5;28;01mraise\u001b[39;00m \u001b[38;5;167;01mRuntimeError\u001b[39;00m(\u001b[38;5;124m\"\u001b[39m\u001b[38;5;124mTester was removed in NumPy 1.25.\u001b[39m\u001b[38;5;124m\"\u001b[39m)\n\u001b[1;32m--> 322\u001b[0m \u001b[38;5;28;01mraise\u001b[39;00m \u001b[38;5;167;01mAttributeError\u001b[39;00m(\u001b[38;5;124m\"\u001b[39m\u001b[38;5;124mmodule \u001b[39m\u001b[38;5;132;01m{!r}\u001b[39;00m\u001b[38;5;124m has no attribute \u001b[39m\u001b[38;5;124m\"\u001b[39m\n\u001b[0;32m    323\u001b[0m                      \u001b[38;5;124m\"\u001b[39m\u001b[38;5;132;01m{!r}\u001b[39;00m\u001b[38;5;124m\"\u001b[39m\u001b[38;5;241m.\u001b[39mformat(\u001b[38;5;18m__name__\u001b[39m, attr))\n",
      "\u001b[1;31mAttributeError\u001b[0m: module 'numpy' has no attribute 'mode'"
     ]
    }
   ],
   "source": [
    "np.mode(population)"
   ]
  },
  {
   "cell_type": "code",
   "execution_count": 8,
   "id": "dc7368e7",
   "metadata": {},
   "outputs": [
    {
     "data": {
      "text/plain": [
       "88"
      ]
     },
     "execution_count": 8,
     "metadata": {},
     "output_type": "execute_result"
    }
   ],
   "source": [
    "mode(population)"
   ]
  },
  {
   "cell_type": "code",
   "execution_count": 9,
   "id": "4cf6069e",
   "metadata": {},
   "outputs": [
    {
     "data": {
      "text/plain": [
       "70"
      ]
     },
     "execution_count": 9,
     "metadata": {},
     "output_type": "execute_result"
    }
   ],
   "source": [
    "np.random.choice(population)"
   ]
  },
  {
   "cell_type": "code",
   "execution_count": 10,
   "id": "7a1e871c",
   "metadata": {},
   "outputs": [
    {
     "data": {
      "text/plain": [
       "14"
      ]
     },
     "execution_count": 10,
     "metadata": {},
     "output_type": "execute_result"
    }
   ],
   "source": [
    "np.random.choice(population)"
   ]
  },
  {
   "cell_type": "code",
   "execution_count": 11,
   "id": "1f251681",
   "metadata": {},
   "outputs": [
    {
     "name": "stdout",
     "output_type": "stream",
     "text": [
      "mean of the popukation 58.64\n",
      "median of the popukation 60.5\n",
      "mode of the popukation 88\n"
     ]
    }
   ],
   "source": [
    "print(f'mean of the popukation {np.mean(population)}')\n",
    "print(f'median of the popukation {np.median(population)}')\n",
    "print(f'mode of the popukation {mode(population)}')"
   ]
  },
  {
   "cell_type": "code",
   "execution_count": 12,
   "id": "973acbac",
   "metadata": {},
   "outputs": [
    {
     "data": {
      "text/plain": [
       "array([88, 99, 55, 28, 14])"
      ]
     },
     "execution_count": 12,
     "metadata": {},
     "output_type": "execute_result"
    }
   ],
   "source": [
    "np.random.choice(population,5)"
   ]
  },
  {
   "cell_type": "code",
   "execution_count": 13,
   "id": "79f53dd7",
   "metadata": {},
   "outputs": [],
   "source": [
    "sample1=np.random.choice(population,20)"
   ]
  },
  {
   "cell_type": "code",
   "execution_count": 14,
   "id": "ea64fe2d",
   "metadata": {},
   "outputs": [
    {
     "data": {
      "text/plain": [
       "array([95, 54, 86, 84, 54, 13, 79, 45, 70, 12, 76, 58, 28, 67, 99, 84, 54,\n",
       "       28, 63, 85])"
      ]
     },
     "execution_count": 14,
     "metadata": {},
     "output_type": "execute_result"
    }
   ],
   "source": [
    "sample1"
   ]
  },
  {
   "cell_type": "code",
   "execution_count": 15,
   "id": "dd756600",
   "metadata": {},
   "outputs": [
    {
     "name": "stdout",
     "output_type": "stream",
     "text": [
      "mean of the sample1 61.7\n",
      "median of the sample1 65.0\n",
      "mode of the sample1 54\n"
     ]
    }
   ],
   "source": [
    "print(f'mean of the sample1 {np.mean(sample1)}')\n",
    "print(f'median of the sample1 {np.median(sample1)}')\n",
    "print(f'mode of the sample1 {mode(sample1)}')"
   ]
  },
  {
   "cell_type": "code",
   "execution_count": 16,
   "id": "273bd048",
   "metadata": {},
   "outputs": [],
   "source": [
    "sample2=np.random.choice(population,20)\n",
    "sample3=np.random.choice(population,20)\n",
    "sample4=np.random.choice(population,20)\n",
    "sample5=np.random.choice(population,20)"
   ]
  },
  {
   "cell_type": "code",
   "execution_count": 17,
   "id": "9173c39e",
   "metadata": {},
   "outputs": [
    {
     "name": "stdout",
     "output_type": "stream",
     "text": [
      "[95 54 86 84 54 13 79 45 70 12 76 58 28 67 99 84 54 28 63 85]\n",
      "[75 92 62 28 58 50 45 27 92 17 95 10 55 99 89 14 70 62 50 70]\n",
      "[88 58 12 89 63 67 95 79 51 43 43 45 55 47 28 22 55 10 88 45]\n",
      "[95 67 92 88 84 63 67 59 27 10 99 30 56 12 70 82 17 88 13 89]\n",
      "[59 23 48 50 56 67 43 47 55 67 54 48 95 88 70 22 58 14 92 47]\n"
     ]
    }
   ],
   "source": [
    "print(sample1)\n",
    "print(sample2)\n",
    "print(sample3)\n",
    "print(sample4)\n",
    "print(sample5)"
   ]
  },
  {
   "cell_type": "code",
   "execution_count": 18,
   "id": "e904e52d",
   "metadata": {},
   "outputs": [
    {
     "name": "stdout",
     "output_type": "stream",
     "text": [
      "[61.7, 58.0, 54.15, 60.4, 55.15]\n"
     ]
    }
   ],
   "source": [
    "mean_of_all_samples=[]\n",
    "samples_list=[sample1,sample2,sample3,sample4,sample5]\n",
    "for sample in samples_list:\n",
    "    mean_of_all_samples.append(np.mean(sample))\n",
    "print(mean_of_all_samples)"
   ]
  },
  {
   "cell_type": "markdown",
   "id": "0591abc0",
   "metadata": {},
   "source": [
    "## Centeral Limit Theorem"
   ]
  },
  {
   "cell_type": "code",
   "execution_count": 19,
   "id": "2a7b7e7c",
   "metadata": {},
   "outputs": [],
   "source": [
    "population1=np.random.binomial(100,0.5,1000)"
   ]
  },
  {
   "cell_type": "code",
   "execution_count": 20,
   "id": "02535f99",
   "metadata": {},
   "outputs": [
    {
     "data": {
      "text/plain": [
       "1000"
      ]
     },
     "execution_count": 20,
     "metadata": {},
     "output_type": "execute_result"
    }
   ],
   "source": [
    "len(population1)"
   ]
  },
  {
   "cell_type": "code",
   "execution_count": 108,
   "id": "e70ca15e",
   "metadata": {},
   "outputs": [
    {
     "data": {
      "text/plain": [
       "array([41, 54, 48, 50, 61, 42, 53, 54, 56, 59, 46, 48, 50, 44, 42, 50, 44,\n",
       "       54, 48, 43, 53, 45, 48, 57, 50, 50, 44, 52, 60, 53, 54, 52, 61, 46,\n",
       "       49, 57, 52, 46, 45, 54, 45, 44, 53, 52, 52, 57, 55, 47, 53, 49, 47,\n",
       "       51, 48, 53, 43, 50, 57, 43, 54, 48, 60, 54, 50, 54, 58, 51, 46, 44,\n",
       "       49, 53, 48, 40, 52, 41, 55, 55, 53, 56, 48, 52, 48, 44, 48, 54, 50,\n",
       "       51, 53, 57, 43, 46, 44, 50, 58, 58, 50, 53, 54, 49, 58, 50, 51, 50,\n",
       "       52, 49, 58, 60, 49, 44, 49, 43, 58, 49, 54, 63, 52, 47, 47, 51, 47,\n",
       "       51, 62, 46, 48, 47, 53, 48, 56, 50, 48, 40, 53, 45, 45, 47, 53, 43,\n",
       "       52, 58, 58, 54, 44, 50, 52, 48, 52, 50, 57, 56, 47, 52, 54, 49, 57,\n",
       "       47, 62, 49, 48, 40, 45, 50, 50, 43, 47, 45, 53, 40, 45, 48, 47, 54,\n",
       "       47, 49, 56, 42, 51, 51, 57, 56, 54, 45, 47, 43, 54, 45, 47, 50, 41,\n",
       "       47, 57, 46, 51, 46, 56, 57, 56, 60, 49, 53, 50, 45, 58, 46, 44, 48,\n",
       "       50, 40, 47, 40, 53, 44, 47, 41, 50, 56, 54, 47, 50, 49, 45, 39, 47,\n",
       "       50, 54, 49, 44, 50, 56, 44, 65, 46, 53, 53, 62, 48, 55, 53, 50, 48,\n",
       "       53, 48, 47, 44, 46, 42, 43, 52, 52, 56, 49, 45, 46, 54, 53, 46, 53,\n",
       "       50, 43, 50, 55, 47, 54, 51, 57, 46, 54, 51, 42, 42, 55, 44, 47, 46,\n",
       "       49, 54, 49, 43, 50, 47, 59, 47, 59, 54, 54, 48, 52, 43, 48, 42, 54,\n",
       "       46, 48, 42, 48, 56, 53, 40, 52, 51, 56, 51, 49, 52, 56, 46, 63, 56,\n",
       "       46, 49, 48, 40, 52, 55, 46, 54, 49, 44, 48, 54, 54, 57, 53, 49, 46,\n",
       "       49, 52, 44, 56, 53, 52, 47, 52, 49, 44, 47, 49, 36, 44, 50, 43, 43,\n",
       "       47, 50, 55, 50, 45, 49, 62, 62, 49, 46, 48, 53, 47, 54, 44, 50, 44,\n",
       "       46, 55, 52, 47, 52, 51, 47, 48, 46, 56, 41, 40, 54, 54, 52, 51, 40,\n",
       "       51, 45, 60, 47, 53, 61, 47, 47, 50, 48, 50, 46, 51, 56, 36, 46, 53,\n",
       "       48, 50, 52, 49, 46, 49, 46, 47, 53, 55, 51, 48, 44, 55, 44, 50, 60,\n",
       "       51, 50, 54, 45, 55, 51, 55, 54, 51, 46, 53, 42, 53, 49, 51, 55, 45,\n",
       "       49, 46, 45, 46, 46, 37, 46, 51, 52, 46, 49, 50, 46, 47, 49, 51, 48,\n",
       "       47, 50, 56, 47, 49, 62, 49, 63, 41, 46, 57, 54, 57, 53, 46, 65, 48,\n",
       "       47, 51, 59, 47, 49, 51, 52, 45, 46, 57, 51, 50, 46, 52, 50, 58, 49,\n",
       "       41, 51, 54, 40, 44, 47, 53, 63, 44, 40, 53, 54, 49, 59, 46, 46, 46,\n",
       "       49, 39, 49, 62, 49, 53, 53, 47, 52, 56, 44, 43, 48, 55, 50, 43, 52,\n",
       "       51, 51, 39, 57, 44, 56, 44, 48, 50, 53, 54, 47, 58, 44, 55, 56, 51,\n",
       "       54, 55, 58, 48, 54, 35, 59, 39, 47, 51, 54, 50, 53, 52, 48, 52, 54,\n",
       "       52, 53, 52, 52, 49, 45, 47, 52, 47, 48, 49, 45, 51, 59, 42, 52, 56,\n",
       "       41, 48, 50, 44, 59, 43, 45, 45, 54, 48, 40, 55, 55, 61, 50, 53, 51,\n",
       "       51, 50, 52, 56, 46, 44, 43, 48, 46, 48, 49, 50, 58, 50, 49, 44, 53,\n",
       "       50, 46, 44, 50, 47, 51, 50, 51, 59, 54, 42, 53, 47, 45, 44, 50, 50,\n",
       "       53, 59, 55, 53, 45, 51, 44, 62, 54, 44, 51, 44, 51, 44, 39, 49, 42,\n",
       "       55, 50, 44, 60, 36, 43, 55, 43, 54, 55, 47, 56, 50, 42, 49, 56, 56,\n",
       "       38, 43, 52, 55, 47, 54, 51, 56, 52, 53, 57, 56, 54, 45, 54, 54, 46,\n",
       "       48, 57, 51, 57, 54, 37, 46, 37, 46, 41, 49, 46, 58, 55, 41, 54, 53,\n",
       "       53, 55, 48, 50, 45, 55, 47, 47, 47, 52, 55, 47, 56, 55, 53, 45, 48,\n",
       "       53, 41, 60, 57, 50, 52, 55, 53, 48, 53, 49, 45, 57, 50, 51, 55, 51,\n",
       "       56, 46, 47, 49, 52, 51, 43, 43, 54, 51, 49, 52, 41, 55, 44, 54, 54,\n",
       "       45, 52, 53, 49, 51, 48, 49, 55, 46, 53, 54, 56, 59, 55, 46, 54, 50,\n",
       "       44, 51, 48, 51, 45, 56, 46, 40, 51, 44, 48, 50, 53, 51, 47, 40, 49,\n",
       "       59, 46, 55, 50, 49, 50, 45, 41, 50, 57, 44, 39, 46, 55, 59, 56, 55,\n",
       "       47, 43, 47, 48, 48, 44, 57, 58, 44, 49, 53, 45, 54, 62, 57, 57, 49,\n",
       "       43, 49, 61, 48, 55, 55, 47, 42, 53, 49, 54, 45, 47, 47, 50, 55, 49,\n",
       "       50, 46, 49, 51, 55, 45, 50, 58, 53, 52, 50, 46, 50, 56, 51, 45, 51,\n",
       "       50, 51, 59, 51, 45, 46, 42, 48, 45, 49, 53, 47, 45, 51, 43, 41, 48,\n",
       "       59, 54, 61, 50, 54, 52, 42, 47, 50, 44, 52, 49, 48, 45, 53, 45, 57,\n",
       "       47, 49, 49, 42, 56, 44, 54, 57, 48, 47, 49, 52, 52, 56, 40, 41, 57,\n",
       "       52, 50, 49, 54, 45, 48, 51, 56, 46, 58, 41, 39, 50, 47, 54, 42, 53,\n",
       "       51, 60, 53, 56, 49, 54, 54, 48, 55, 59, 51, 46, 46, 61, 46, 51, 56,\n",
       "       48, 59, 52, 52, 60, 53, 54, 41, 58, 42, 52, 51, 49, 43, 49, 51, 47,\n",
       "       45, 53, 56, 51, 41, 42, 55, 51, 49, 46, 51, 49, 48, 61, 48, 42, 56,\n",
       "       52, 58, 44, 54, 48, 52, 42, 53, 52, 52, 47, 53, 48, 50, 54, 59, 52,\n",
       "       44, 47, 49, 49, 45, 42, 44, 48, 50, 51, 43, 48, 39, 46, 44, 47, 50,\n",
       "       45, 49, 48, 52, 45, 52, 48, 54, 53, 44, 49, 50, 45, 59])"
      ]
     },
     "execution_count": 108,
     "metadata": {},
     "output_type": "execute_result"
    }
   ],
   "source": [
    "population1"
   ]
  },
  {
   "cell_type": "code",
   "execution_count": 109,
   "id": "bcb14c4a",
   "metadata": {},
   "outputs": [
    {
     "name": "stderr",
     "output_type": "stream",
     "text": [
      "C:\\Users\\Ranga Pavan\\AppData\\Local\\Temp\\ipykernel_27976\\294474584.py:2: UserWarning: \n",
      "\n",
      "`distplot` is a deprecated function and will be removed in seaborn v0.14.0.\n",
      "\n",
      "Please adapt your code to use either `displot` (a figure-level function with\n",
      "similar flexibility) or `histplot` (an axes-level function for histograms).\n",
      "\n",
      "For a guide to updating your code to use the new functions, please see\n",
      "https://gist.github.com/mwaskom/de44147ed2974457ad6372750bbe5751\n",
      "\n",
      "  sns.distplot(population1)\n"
     ]
    },
    {
     "data": {
      "text/plain": [
       "<Axes: ylabel='Density'>"
      ]
     },
     "execution_count": 109,
     "metadata": {},
     "output_type": "execute_result"
    },
    {
     "data": {
      "image/png": "[encoded data removed]",
      "text/plain": [
       "<Figure size 640x480 with 1 Axes>"
      ]
     },
     "metadata": {},
     "output_type": "display_data"
    }
   ],
   "source": [
    "import seaborn as sns\n",
    "sns.distplot(population1)"
   ]
  },
  {
   "cell_type": "code",
   "execution_count": 110,
   "id": "7b15987f",
   "metadata": {},
   "outputs": [
    {
     "name": "stdout",
     "output_type": "stream",
     "text": [
      "mean of samples mean 49.57666666666667\n",
      "mean of population2 49.916\n"
     ]
    },
    {
     "name": "stderr",
     "output_type": "stream",
     "text": [
      "C:\\Users\\Ranga Pavan\\AppData\\Local\\Temp\\ipykernel_27976\\586808573.py:9: UserWarning: \n",
      "\n",
      "`distplot` is a deprecated function and will be removed in seaborn v0.14.0.\n",
      "\n",
      "Please adapt your code to use either `displot` (a figure-level function with\n",
      "similar flexibility) or `histplot` (an axes-level function for histograms).\n",
      "\n",
      "For a guide to updating your code to use the new functions, please see\n",
      "https://gist.github.com/mwaskom/de44147ed2974457ad6372750bbe5751\n",
      "\n",
      "  sns.distplot(sample_meanp1)\n"
     ]
    },
    {
     "data": {
      "text/plain": [
       "<Axes: ylabel='Density'>"
      ]
     },
     "execution_count": 110,
     "metadata": {},
     "output_type": "execute_result"
    },
    {
     "data": {
      "image/png": "[encoded data removed]",
      "text/plain": [
       "<Figure size 640x480 with 1 Axes>"
      ]
     },
     "metadata": {},
     "output_type": "display_data"
    }
   ],
   "source": [
    "# size=int(len(population1) * 0.10)\n",
    "sample_meanp1=[]\n",
    "size=int(len(population1)*0.30)\n",
    "for i in range(30):\n",
    "    sample=np.random.choice(population1,size)\n",
    "    sample_meanp1.append(np.mean(sample))\n",
    "print(f'mean of samples mean {np.mean(sample)}')\n",
    "print(f'mean of population2 {np.mean(population1)}')\n",
    "sns.distplot(sample_meanp1)"
   ]
  },
  {
   "cell_type": "code",
   "execution_count": 111,
   "id": "4edc6e54",
   "metadata": {},
   "outputs": [
    {
     "name": "stdout",
     "output_type": "stream",
     "text": [
      "mean of samples mean 110.0\n",
      "mean of population2 49.916\n"
     ]
    },
    {
     "name": "stderr",
     "output_type": "stream",
     "text": [
      "C:\\Users\\Ranga Pavan\\AppData\\Local\\Temp\\ipykernel_27976\\3069332424.py:9: UserWarning: \n",
      "\n",
      "`distplot` is a deprecated function and will be removed in seaborn v0.14.0.\n",
      "\n",
      "Please adapt your code to use either `displot` (a figure-level function with\n",
      "similar flexibility) or `histplot` (an axes-level function for histograms).\n",
      "\n",
      "For a guide to updating your code to use the new functions, please see\n",
      "https://gist.github.com/mwaskom/de44147ed2974457ad6372750bbe5751\n",
      "\n",
      "  sns.distplot(sample_meanp1)\n"
     ]
    },
    {
     "data": {
      "text/plain": [
       "<Axes: ylabel='Density'>"
      ]
     },
     "execution_count": 111,
     "metadata": {},
     "output_type": "execute_result"
    },
    {
     "data": {
      "image/png": "[encoded data removed]",
      "text/plain": [
       "<Figure size 640x480 with 1 Axes>"
      ]
     },
     "metadata": {},
     "output_type": "display_data"
    }
   ],
   "source": [
    "size=int(len(population1) * 0.20)\n",
    "sample_meanp1=[]\n",
    "size=int(len(population1)*0.30)\n",
    "for i in range(30):\n",
    "    sample=np.random.choice(population1,size)\n",
    "    sample_meanp1.append(np.mean(sample))\n",
    "print(f'mean of samples mean {np.mean(sample_mean)}')\n",
    "print(f'mean of population2 {np.mean(population1)}')\n",
    "sns.distplot(sample_meanp1)"
   ]
  },
  {
   "cell_type": "code",
   "execution_count": 112,
   "id": "3d32f58f",
   "metadata": {},
   "outputs": [
    {
     "name": "stdout",
     "output_type": "stream",
     "text": [
      "mean of samples mean 110.0\n",
      "mean of population2 49.916\n"
     ]
    },
    {
     "name": "stderr",
     "output_type": "stream",
     "text": [
      "C:\\Users\\Ranga Pavan\\AppData\\Local\\Temp\\ipykernel_27976\\4032637629.py:8: UserWarning: \n",
      "\n",
      "`distplot` is a deprecated function and will be removed in seaborn v0.14.0.\n",
      "\n",
      "Please adapt your code to use either `displot` (a figure-level function with\n",
      "similar flexibility) or `histplot` (an axes-level function for histograms).\n",
      "\n",
      "For a guide to updating your code to use the new functions, please see\n",
      "https://gist.github.com/mwaskom/de44147ed2974457ad6372750bbe5751\n",
      "\n",
      "  sns.distplot(sample_meanp1)\n"
     ]
    },
    {
     "data": {
      "text/plain": [
       "<Axes: ylabel='Density'>"
      ]
     },
     "execution_count": 112,
     "metadata": {},
     "output_type": "execute_result"
    },
    {
     "data": {
      "image/png": "[encoded data removed]",
      "text/plain": [
       "<Figure size 640x480 with 1 Axes>"
      ]
     },
     "metadata": {},
     "output_type": "display_data"
    }
   ],
   "source": [
    "\n",
    "sample_meanp1=[]\n",
    "size=int(len(population1)*0.05)\n",
    "for i in range(30):\n",
    "    sample=np.random.choice(population1,size)\n",
    "    sample_meanp1.append(np.mean(sample))\n",
    "print(f'mean of samples mean {np.mean(sample_mean)}')\n",
    "print(f'mean of population2 {np.mean(population1)}')\n",
    "sns.distplot(sample_meanp1)"
   ]
  },
  {
   "cell_type": "code",
   "execution_count": 113,
   "id": "0daf08d8",
   "metadata": {},
   "outputs": [
    {
     "name": "stdout",
     "output_type": "stream",
     "text": [
      "mean of samples mean 110.0\n",
      "mean of population2 49.916\n"
     ]
    },
    {
     "name": "stderr",
     "output_type": "stream",
     "text": [
      "C:\\Users\\Ranga Pavan\\AppData\\Local\\Temp\\ipykernel_27976\\42108921.py:8: UserWarning: \n",
      "\n",
      "`distplot` is a deprecated function and will be removed in seaborn v0.14.0.\n",
      "\n",
      "Please adapt your code to use either `displot` (a figure-level function with\n",
      "similar flexibility) or `histplot` (an axes-level function for histograms).\n",
      "\n",
      "For a guide to updating your code to use the new functions, please see\n",
      "https://gist.github.com/mwaskom/de44147ed2974457ad6372750bbe5751\n",
      "\n",
      "  sns.distplot(sample_meanp1)\n"
     ]
    },
    {
     "data": {
      "text/plain": [
       "<Axes: ylabel='Density'>"
      ]
     },
     "execution_count": 113,
     "metadata": {},
     "output_type": "execute_result"
    },
    {
     "data": {
      "image/png": "[encoded data removed]",
      "text/plain": [
       "<Figure size 640x480 with 1 Axes>"
      ]
     },
     "metadata": {},
     "output_type": "display_data"
    }
   ],
   "source": [
    "\n",
    "sample_meanp1=[]\n",
    "size=int(len(population1)*0.10)\n",
    "for i in range(30):\n",
    "    sample=np.random.choice(population1,size)\n",
    "    sample_meanp1.append(np.mean(sample))\n",
    "print(f'mean of samples mean {np.mean(sample_mean)}')\n",
    "print(f'mean of population2 {np.mean(population1)}')\n",
    "sns.distplot(sample_meanp1)"
   ]
  },
  {
   "cell_type": "code",
   "execution_count": 114,
   "id": "c3173a6d",
   "metadata": {},
   "outputs": [
    {
     "name": "stdout",
     "output_type": "stream",
     "text": [
      "mean of samples mean 110.0\n",
      "mean of population2 49.916\n"
     ]
    },
    {
     "name": "stderr",
     "output_type": "stream",
     "text": [
      "C:\\Users\\Ranga Pavan\\AppData\\Local\\Temp\\ipykernel_27976\\218271277.py:8: UserWarning: \n",
      "\n",
      "`distplot` is a deprecated function and will be removed in seaborn v0.14.0.\n",
      "\n",
      "Please adapt your code to use either `displot` (a figure-level function with\n",
      "similar flexibility) or `histplot` (an axes-level function for histograms).\n",
      "\n",
      "For a guide to updating your code to use the new functions, please see\n",
      "https://gist.github.com/mwaskom/de44147ed2974457ad6372750bbe5751\n",
      "\n",
      "  sns.distplot(sample_meanp1)\n"
     ]
    },
    {
     "data": {
      "text/plain": [
       "<Axes: ylabel='Density'>"
      ]
     },
     "execution_count": 114,
     "metadata": {},
     "output_type": "execute_result"
    },
    {
     "data": {
      "image/png": "[encoded data removed]",
      "text/plain": [
       "<Figure size 640x480 with 1 Axes>"
      ]
     },
     "metadata": {},
     "output_type": "display_data"
    }
   ],
   "source": [
    " \n",
    "sample_meanp1=[]\n",
    "size=int(len(population1)*0.20)\n",
    "for i in range(30):\n",
    "    sample=np.random.choice(population1,size)\n",
    "    sample_meanp1.append(np.mean(sample))\n",
    "print(f'mean of samples mean {np.mean(sample_mean)}')\n",
    "print(f'mean of population2 {np.mean(population1)}')\n",
    "sns.distplot(sample_meanp1)"
   ]
  },
  {
   "cell_type": "code",
   "execution_count": 115,
   "id": "8d113fa8",
   "metadata": {},
   "outputs": [
    {
     "name": "stdout",
     "output_type": "stream",
     "text": [
      "mean of samples mean 110.0\n",
      "mean of population2 49.916\n"
     ]
    },
    {
     "name": "stderr",
     "output_type": "stream",
     "text": [
      "C:\\Users\\Ranga Pavan\\AppData\\Local\\Temp\\ipykernel_27976\\2900397031.py:8: UserWarning: \n",
      "\n",
      "`distplot` is a deprecated function and will be removed in seaborn v0.14.0.\n",
      "\n",
      "Please adapt your code to use either `displot` (a figure-level function with\n",
      "similar flexibility) or `histplot` (an axes-level function for histograms).\n",
      "\n",
      "For a guide to updating your code to use the new functions, please see\n",
      "https://gist.github.com/mwaskom/de44147ed2974457ad6372750bbe5751\n",
      "\n",
      "  sns.distplot(sample_meanp1)\n"
     ]
    },
    {
     "data": {
      "text/plain": [
       "<Axes: ylabel='Density'>"
      ]
     },
     "execution_count": 115,
     "metadata": {},
     "output_type": "execute_result"
    },
    {
     "data": {
      "image/png": "[encoded data removed]",
      "text/plain": [
       "<Figure size 640x480 with 1 Axes>"
      ]
     },
     "metadata": {},
     "output_type": "display_data"
    }
   ],
   "source": [
    " \n",
    "sample_meanp1=[]\n",
    "size=int(len(population1)*0.40)\n",
    "for i in range(30):\n",
    "    sample=np.random.choice(population1,size)\n",
    "    sample_meanp1.append(np.mean(sample))\n",
    "print(f'mean of samples mean {np.mean(sample_mean)}')\n",
    "print(f'mean of population2 {np.mean(population1)}')\n",
    "sns.distplot(sample_meanp1)"
   ]
  },
  {
   "cell_type": "code",
   "execution_count": null,
   "id": "626d086b",
   "metadata": {},
   "outputs": [],
   "source": []
  },
  {
   "cell_type": "code",
   "execution_count": 116,
   "id": "b4ac33fd",
   "metadata": {},
   "outputs": [],
   "source": [
    "population2=np.random.binomial(10,0.6,10000)\n"
   ]
  },
  {
   "cell_type": "code",
   "execution_count": 117,
   "id": "1ad7d8c5",
   "metadata": {},
   "outputs": [
    {
     "data": {
      "text/plain": [
       "array([6, 4, 4, ..., 5, 5, 7])"
      ]
     },
     "execution_count": 117,
     "metadata": {},
     "output_type": "execute_result"
    }
   ],
   "source": [
    "population2"
   ]
  },
  {
   "cell_type": "code",
   "execution_count": 118,
   "id": "69779ed2",
   "metadata": {
    "scrolled": true
   },
   "outputs": [
    {
     "data": {
      "text/plain": [
       "10000"
      ]
     },
     "execution_count": 118,
     "metadata": {},
     "output_type": "execute_result"
    }
   ],
   "source": [
    "len(population2)"
   ]
  },
  {
   "cell_type": "code",
   "execution_count": 119,
   "id": "8c98a62a",
   "metadata": {},
   "outputs": [],
   "source": [
    "size=int(len(population2)*0.30)"
   ]
  },
  {
   "cell_type": "code",
   "execution_count": 120,
   "id": "e18846d2",
   "metadata": {},
   "outputs": [
    {
     "data": {
      "text/plain": [
       "3000"
      ]
     },
     "execution_count": 120,
     "metadata": {},
     "output_type": "execute_result"
    }
   ],
   "source": [
    "size"
   ]
  },
  {
   "cell_type": "code",
   "execution_count": null,
   "id": "f5b43439",
   "metadata": {},
   "outputs": [],
   "source": []
  },
  {
   "cell_type": "code",
   "execution_count": null,
   "id": "0cf0fb20",
   "metadata": {},
   "outputs": [],
   "source": []
  },
  {
   "cell_type": "code",
   "execution_count": 121,
   "id": "5142084d",
   "metadata": {},
   "outputs": [
    {
     "name": "stderr",
     "output_type": "stream",
     "text": [
      "C:\\Users\\Ranga Pavan\\AppData\\Local\\Temp\\ipykernel_27976\\2738959746.py:1: UserWarning: \n",
      "\n",
      "`distplot` is a deprecated function and will be removed in seaborn v0.14.0.\n",
      "\n",
      "Please adapt your code to use either `displot` (a figure-level function with\n",
      "similar flexibility) or `histplot` (an axes-level function for histograms).\n",
      "\n",
      "For a guide to updating your code to use the new functions, please see\n",
      "https://gist.github.com/mwaskom/de44147ed2974457ad6372750bbe5751\n",
      "\n",
      "  sns.distplot(population2)\n"
     ]
    },
    {
     "data": {
      "text/plain": [
       "<Axes: ylabel='Density'>"
      ]
     },
     "execution_count": 121,
     "metadata": {},
     "output_type": "execute_result"
    },
    {
     "data": {
      "image/png": "[encoded data removed]",
      "text/plain": [
       "<Figure size 640x480 with 1 Axes>"
      ]
     },
     "metadata": {},
     "output_type": "display_data"
    }
   ],
   "source": [
    "sns.distplot(population2)"
   ]
  },
  {
   "cell_type": "code",
   "execution_count": null,
   "id": "4830102a",
   "metadata": {},
   "outputs": [],
   "source": [
    "sample_mean=[]\n",
    "size=int(len(population2)*0.30)\n",
    "for i in range(30):\n",
    "    print(np.random.choice(population2,size))\n",
    "    "
   ]
  },
  {
   "cell_type": "code",
   "execution_count": null,
   "id": "62d14cfa",
   "metadata": {},
   "outputs": [],
   "source": [
    "sample_mean=[]\n",
    "size=int(len(population2)*0.30)\n",
    "for i in range(30):\n",
    "    sample=np.random.choice(population2,size)\n",
    "    sample_mean.append(np.mean(sample))\n",
    "print(f'mean of samples mean {np.mean(sample_mean)}')\n",
    "print(f'mean of population2 {np.mean(population2)}')\n",
    "    "
   ]
  },
  {
   "cell_type": "code",
   "execution_count": null,
   "id": "75c8cd6e",
   "metadata": {},
   "outputs": [],
   "source": [
    "sns.distplot(sample_mean)"
   ]
  },
  {
   "cell_type": "code",
   "execution_count": null,
   "id": "c0ed29c5",
   "metadata": {},
   "outputs": [],
   "source": [
    "sample_mean=[]\n",
    "size=int(len(population2)*0.30)\n",
    "for i in range(1000):\n",
    "    sample=np.random.choice(population2,size)\n",
    "    sample_mean.append(np.mean(sample))\n",
    "print(f'mean of samples mean {np.mean(sample_mean)}')\n",
    "print(f'mean of population2 {np.mean(population2)}')\n",
    "     \n",
    "    \n",
    "sns.distplot(sample_mean)"
   ]
  },
  {
   "cell_type": "code",
   "execution_count": null,
   "id": "209c1487",
   "metadata": {},
   "outputs": [],
   "source": [
    "sample_mean=[]\n",
    "size=int(len(population2)*0.30)\n",
    "for i in range(400):\n",
    "    sample=np.random.choice(population2,size)\n",
    "    sample_mean.append(np.mean(sample))\n",
    "print(f'mean of samples mean {np.mean(sample_mean)}')\n",
    "print(f'mean of population2 {np.mean(population2)}')\n",
    "       \n",
    "sns.distplot(sample_mean)"
   ]
  },
  {
   "cell_type": "code",
   "execution_count": null,
   "id": "97a5727f",
   "metadata": {},
   "outputs": [],
   "source": [
    "sample_mean=[]\n",
    "size=int(len(population2)*0.30)\n",
    "for i in range(1000):\n",
    "    sample=np.random.choice(population2,size)\n",
    "    sample_mean.append(np.mean(sample))\n",
    "print(f'mean of samples mean {np.mean(sample_mean)}')\n",
    "print(f'mean of population2 {np.mean(population2)}')\n",
    "       \n",
    "sns.distplot(sample_mean,kde=True,color='r')"
   ]
  },
  {
   "cell_type": "markdown",
   "id": "9a5f4466",
   "metadata": {},
   "source": [
    "## confidence Intervel and margin of Error"
   ]
  },
  {
   "cell_type": "code",
   "execution_count": null,
   "id": "844ea96d",
   "metadata": {},
   "outputs": [],
   "source": [
    "import scipy.stats as stats\n"
   ]
  },
  {
   "cell_type": "markdown",
   "id": "6d6a2a11",
   "metadata": {},
   "source": [
    "#### z - test values"
   ]
  },
  {
   "cell_type": "code",
   "execution_count": 75,
   "id": "4394d07f",
   "metadata": {},
   "outputs": [
    {
     "data": {
      "text/plain": [
       "1.6448536269514722"
      ]
     },
     "execution_count": 75,
     "metadata": {},
     "output_type": "execute_result"
    }
   ],
   "source": [
    "##z - test values\n",
    "stats.norm.ppf(q=0.95)"
   ]
  },
  {
   "cell_type": "code",
   "execution_count": 76,
   "id": "94c77a8d",
   "metadata": {},
   "outputs": [
    {
     "data": {
      "text/plain": [
       "0.2533471031357997"
      ]
     },
     "execution_count": 76,
     "metadata": {},
     "output_type": "execute_result"
    }
   ],
   "source": [
    "stats.norm.ppf(0.6)"
   ]
  },
  {
   "cell_type": "code",
   "execution_count": 77,
   "id": "0b03c80e",
   "metadata": {},
   "outputs": [
    {
     "data": {
      "text/plain": [
       "8.209536151601387"
      ]
     },
     "execution_count": 77,
     "metadata": {},
     "output_type": "execute_result"
    }
   ],
   "source": [
    "stats.norm.ppf(0.9999999999999999)"
   ]
  },
  {
   "cell_type": "code",
   "execution_count": 78,
   "id": "25fd2e98",
   "metadata": {},
   "outputs": [
    {
     "data": {
      "text/plain": [
       "inf"
      ]
     },
     "execution_count": 78,
     "metadata": {},
     "output_type": "execute_result"
    }
   ],
   "source": [
    "stats.norm.ppf(1)"
   ]
  },
  {
   "cell_type": "code",
   "execution_count": 79,
   "id": "9ef9d819",
   "metadata": {},
   "outputs": [
    {
     "data": {
      "text/plain": [
       "-inf"
      ]
     },
     "execution_count": 79,
     "metadata": {},
     "output_type": "execute_result"
    }
   ],
   "source": [
    "stats.norm.ppf(0)"
   ]
  },
  {
   "cell_type": "code",
   "execution_count": 80,
   "id": "1c2f53e0",
   "metadata": {},
   "outputs": [],
   "source": [
    "z_critical = stats.norm.ppf(.975)"
   ]
  },
  {
   "cell_type": "code",
   "execution_count": 81,
   "id": "e1d3dcb6",
   "metadata": {},
   "outputs": [
    {
     "data": {
      "text/plain": [
       "1.959963984540054"
      ]
     },
     "execution_count": 81,
     "metadata": {},
     "output_type": "execute_result"
    }
   ],
   "source": [
    "z_critical"
   ]
  },
  {
   "cell_type": "code",
   "execution_count": 82,
   "id": "86d4ceb6",
   "metadata": {},
   "outputs": [],
   "source": [
    "## t -test values\n",
    "t_critical = stats.t.ppf(q=0.95,df=24)"
   ]
  },
  {
   "cell_type": "code",
   "execution_count": 83,
   "id": "2a4a5fb8",
   "metadata": {},
   "outputs": [
    {
     "data": {
      "text/plain": [
       "1.7108820799094275"
      ]
     },
     "execution_count": 83,
     "metadata": {},
     "output_type": "execute_result"
    }
   ],
   "source": [
    "t_critical"
   ]
  },
  {
   "cell_type": "code",
   "execution_count": 84,
   "id": "c19c023f",
   "metadata": {},
   "outputs": [],
   "source": [
    "samplemean=np.mean(sample_mean)"
   ]
  },
  {
   "cell_type": "code",
   "execution_count": 85,
   "id": "bc4f3708",
   "metadata": {},
   "outputs": [],
   "source": [
    "margin_error = z_critical * (np.std(samplemean)/np.sqrt(20))"
   ]
  },
  {
   "cell_type": "code",
   "execution_count": 86,
   "id": "ec6adc1d",
   "metadata": {},
   "outputs": [
    {
     "data": {
      "text/plain": [
       "-1.959963984540054"
      ]
     },
     "execution_count": 86,
     "metadata": {},
     "output_type": "execute_result"
    }
   ],
   "source": [
    "margin_error - z_critical"
   ]
  },
  {
   "cell_type": "code",
   "execution_count": 87,
   "id": "2acc594f",
   "metadata": {},
   "outputs": [
    {
     "data": {
      "text/plain": [
       "1.959963984540054"
      ]
     },
     "execution_count": 87,
     "metadata": {},
     "output_type": "execute_result"
    }
   ],
   "source": [
    "margin_error + z_critical"
   ]
  },
  {
   "cell_type": "code",
   "execution_count": 88,
   "id": "29ebd5c9",
   "metadata": {},
   "outputs": [],
   "source": [
    "population3 = np.random.binomial(100,0.5,1000)"
   ]
  },
  {
   "cell_type": "code",
   "execution_count": 89,
   "id": "5c0963bc",
   "metadata": {},
   "outputs": [],
   "source": [
    "sample6=np.random.choice(population3,20)\n",
    "sample7=np.random.choice(population3,20)\n",
    "sample8=np.random.choice(population3,20)\n",
    "sample9=np.random.choice(population3,20)\n",
    "sample10=np.random.choice(population3,20)"
   ]
  },
  {
   "cell_type": "code",
   "execution_count": 90,
   "id": "b022b989",
   "metadata": {},
   "outputs": [
    {
     "name": "stdout",
     "output_type": "stream",
     "text": [
      "[50.35, 50.6, 50.05, 51.15, 50.25]\n"
     ]
    }
   ],
   "source": [
    "mean_of_samples=[]\n",
    "samples_list=[sample6,sample7,sample8,sample9,sample10]\n",
    "for sample in samples_list:\n",
    "    mean_of_samples.append(np.mean(sample))\n",
    "print(mean_of_samples)"
   ]
  },
  {
   "cell_type": "code",
   "execution_count": 91,
   "id": "0aa217a0",
   "metadata": {},
   "outputs": [],
   "source": [
    "z_critical = stats.norm.ppf(.975)"
   ]
  },
  {
   "cell_type": "code",
   "execution_count": 92,
   "id": "319b1768",
   "metadata": {},
   "outputs": [],
   "source": [
    "t_critical = stats.t.ppf(q=0.95,df=24)"
   ]
  },
  {
   "cell_type": "code",
   "execution_count": 93,
   "id": "7109095f",
   "metadata": {},
   "outputs": [],
   "source": [
    "margin_error = z_critical * (np.std(mean_of_samples)/np.sqrt(20))"
   ]
  },
  {
   "cell_type": "code",
   "execution_count": 94,
   "id": "a43d666b",
   "metadata": {},
   "outputs": [],
   "source": [
    "lci=np.mean(mean_of_samples) - margin_error"
   ]
  },
  {
   "cell_type": "code",
   "execution_count": 95,
   "id": "e626505f",
   "metadata": {},
   "outputs": [],
   "source": [
    "hci=np.mean(mean_of_samples) + margin_error"
   ]
  },
  {
   "cell_type": "code",
   "execution_count": 96,
   "id": "c110b3d8",
   "metadata": {},
   "outputs": [
    {
     "data": {
      "text/plain": [
       "(50.313922685677475, 50.64607731432253)"
      ]
     },
     "execution_count": 96,
     "metadata": {},
     "output_type": "execute_result"
    }
   ],
   "source": [
    "lci,hci"
   ]
  },
  {
   "cell_type": "markdown",
   "id": "f881cd1a",
   "metadata": {},
   "source": [
    "## Z - Test"
   ]
  },
  {
   "cell_type": "code",
   "execution_count": 97,
   "id": "81ecb61a",
   "metadata": {},
   "outputs": [],
   "source": [
    "import numpy as np\n",
    "from numpy.random import randn\n",
    "import seaborn as sns"
   ]
  },
  {
   "cell_type": "code",
   "execution_count": 98,
   "id": "3d75ddbe",
   "metadata": {},
   "outputs": [],
   "source": [
    "population4=randn(100)"
   ]
  },
  {
   "cell_type": "code",
   "execution_count": 99,
   "id": "d8cdb451",
   "metadata": {},
   "outputs": [
    {
     "name": "stderr",
     "output_type": "stream",
     "text": [
      "C:\\Users\\Ranga Pavan\\AppData\\Local\\Temp\\ipykernel_27976\\3406578389.py:1: UserWarning: \n",
      "\n",
      "`distplot` is a deprecated function and will be removed in seaborn v0.14.0.\n",
      "\n",
      "Please adapt your code to use either `displot` (a figure-level function with\n",
      "similar flexibility) or `histplot` (an axes-level function for histograms).\n",
      "\n",
      "For a guide to updating your code to use the new functions, please see\n",
      "https://gist.github.com/mwaskom/de44147ed2974457ad6372750bbe5751\n",
      "\n",
      "  sns.distplot(population4)\n"
     ]
    },
    {
     "data": {
      "text/plain": [
       "<Axes: ylabel='Density'>"
      ]
     },
     "execution_count": 99,
     "metadata": {},
     "output_type": "execute_result"
    },
    {
     "data": {
      "image/png": "[encoded data removed]",
      "text/plain": [
       "<Figure size 640x480 with 1 Axes>"
      ]
     },
     "metadata": {},
     "output_type": "display_data"
    }
   ],
   "source": [
    "sns.distplot(population4)"
   ]
  },
  {
   "cell_type": "code",
   "execution_count": 100,
   "id": "4cd59bd8",
   "metadata": {},
   "outputs": [
    {
     "data": {
      "text/plain": [
       "(0.13558762911751807, 1.1822150341287512)"
      ]
     },
     "execution_count": 100,
     "metadata": {},
     "output_type": "execute_result"
    }
   ],
   "source": [
    "np.mean(population4),np.std(population4)"
   ]
  },
  {
   "cell_type": "code",
   "execution_count": 101,
   "id": "be767e58",
   "metadata": {},
   "outputs": [
    {
     "ename": "SyntaxError",
     "evalue": "invalid syntax (187484743.py, line 1)",
     "output_type": "error",
     "traceback": [
      "\u001b[1;36m  Cell \u001b[1;32mIn[101], line 1\u001b[1;36m\u001b[0m\n\u001b[1;33m    C.I=95%\u001b[0m\n\u001b[1;37m           ^\u001b[0m\n\u001b[1;31mSyntaxError\u001b[0m\u001b[1;31m:\u001b[0m invalid syntax\n"
     ]
    }
   ],
   "source": [
    "C.I=95%\n",
    "alpha=0.05(5%)"
   ]
  },
  {
   "cell_type": "code",
   "execution_count": 102,
   "id": "a3ecbb89",
   "metadata": {},
   "outputs": [
    {
     "ename": "NameError",
     "evalue": "name 'P' is not defined",
     "output_type": "error",
     "traceback": [
      "\u001b[1;31m---------------------------------------------------------------------------\u001b[0m",
      "\u001b[1;31mNameError\u001b[0m                                 Traceback (most recent call last)",
      "Cell \u001b[1;32mIn[102], line 1\u001b[0m\n\u001b[1;32m----> 1\u001b[0m \u001b[43mP\u001b[49m \u001b[38;5;241m<\u001b[39m\u001b[38;5;241m=\u001b[39m \u001b[38;5;241m0.05\u001b[39m \u001b[38;5;66;03m##(i.e p <= alpha ) REJECT THE NULL HYPOTHESIS\u001b[39;00m\n\u001b[0;32m      2\u001b[0m P \u001b[38;5;241m>\u001b[39m \u001b[38;5;241m0.05\u001b[39m \u001b[38;5;66;03m## (i.e p > alpha )YOUR ACCEPT THE NUL HYPOTHESIS AND FAILS TO REJECT THE NULL HYPOTHESIS\u001b[39;00m\n",
      "\u001b[1;31mNameError\u001b[0m: name 'P' is not defined"
     ]
    }
   ],
   "source": [
    "P <= 0.05 ##(i.e p <= alpha ) REJECT THE NULL HYPOTHESIS\n",
    "P > 0.05 ## (i.e p > alpha )YOUR ACCEPT THE NUL HYPOTHESIS AND FAILS TO REJECT THE NULL HYPOTHESIS\n"
   ]
  },
  {
   "cell_type": "code",
   "execution_count": 103,
   "id": "a09bc800",
   "metadata": {},
   "outputs": [
    {
     "name": "stdout",
     "output_type": "stream",
     "text": [
      "Requirement already satisfied: statsmodels in c:\\users\\ranga pavan\\appdata\\local\\programs\\python\\python311\\lib\\site-packages (0.14.0)\n",
      "Requirement already satisfied: numpy>=1.18 in c:\\users\\ranga pavan\\appdata\\local\\programs\\python\\python311\\lib\\site-packages (from statsmodels) (1.25.0)\n",
      "Requirement already satisfied: scipy!=1.9.2,>=1.4 in c:\\users\\ranga pavan\\appdata\\local\\programs\\python\\python311\\lib\\site-packages (from statsmodels) (1.11.1)\n",
      "Requirement already satisfied: pandas>=1.0 in c:\\users\\ranga pavan\\appdata\\local\\programs\\python\\python311\\lib\\site-packages (from statsmodels) (2.0.3)\n",
      "Requirement already satisfied: patsy>=0.5.2 in c:\\users\\ranga pavan\\appdata\\local\\programs\\python\\python311\\lib\\site-packages (from statsmodels) (0.5.3)\n",
      "Requirement already satisfied: packaging>=21.3 in c:\\users\\ranga pavan\\appdata\\local\\programs\\python\\python311\\lib\\site-packages (from statsmodels) (23.1)\n",
      "Requirement already satisfied: python-dateutil>=2.8.2 in c:\\users\\ranga pavan\\appdata\\local\\programs\\python\\python311\\lib\\site-packages (from pandas>=1.0->statsmodels) (2.8.2)\n",
      "Requirement already satisfied: pytz>=2020.1 in c:\\users\\ranga pavan\\appdata\\local\\programs\\python\\python311\\lib\\site-packages (from pandas>=1.0->statsmodels) (2023.3)\n",
      "Requirement already satisfied: tzdata>=2022.1 in c:\\users\\ranga pavan\\appdata\\local\\programs\\python\\python311\\lib\\site-packages (from pandas>=1.0->statsmodels) (2023.3)\n",
      "Requirement already satisfied: six in c:\\users\\ranga pavan\\appdata\\local\\programs\\python\\python311\\lib\\site-packages (from patsy>=0.5.2->statsmodels) (1.16.0)\n",
      "Note: you may need to restart the kernel to use updated packages.\n"
     ]
    },
    {
     "name": "stderr",
     "output_type": "stream",
     "text": [
      "\n",
      "[notice] A new release of pip is available: 23.1.2 -> 23.2.1\n",
      "[notice] To update, run: python.exe -m pip install --upgrade pip\n"
     ]
    }
   ],
   "source": [
    "pip install statsmodels"
   ]
  },
  {
   "cell_type": "code",
   "execution_count": 104,
   "id": "28260b83",
   "metadata": {},
   "outputs": [],
   "source": [
    "from statsmodels.stats.weightstats import ztest\n",
    "z_score,p_value = ztest(population4,value=np.mean(population4),alternative='larger')"
   ]
  },
  {
   "cell_type": "code",
   "execution_count": 105,
   "id": "1d2ee809",
   "metadata": {},
   "outputs": [
    {
     "data": {
      "text/plain": [
       "0.0"
      ]
     },
     "execution_count": 105,
     "metadata": {},
     "output_type": "execute_result"
    }
   ],
   "source": [
    "z_score"
   ]
  },
  {
   "cell_type": "code",
   "execution_count": 106,
   "id": "691ce4ff",
   "metadata": {},
   "outputs": [
    {
     "data": {
      "text/plain": [
       "0.5"
      ]
     },
     "execution_count": 106,
     "metadata": {},
     "output_type": "execute_result"
    }
   ],
   "source": [
    "p_value"
   ]
  },
  {
   "cell_type": "code",
   "execution_count": 107,
   "id": "26e8754c",
   "metadata": {},
   "outputs": [
    {
     "name": "stdout",
     "output_type": "stream",
     "text": [
      "ACCPEPT THE NULL HYPOTHESIS AND FAILS TO REJECT THE NULL HYPOTHESIS\n"
     ]
    }
   ],
   "source": [
    "alpha=0.05\n",
    "if p_value < alpha:\n",
    "    print(\"REJECT THE NULL HYPOTHESIS(H0)\")\n",
    "else:\n",
    "    print(\"ACCPEPT THE NULL HYPOTHESIS AND FAILS TO REJECT THE NULL HYPOTHESIS\")"
   ]
  },
  {
   "cell_type": "markdown",
   "id": "753b805b",
   "metadata": {},
   "source": [
    "## How to chech Normality of the of the data\n",
    "1. Z - Test\n",
    "2. T - Test\n",
    "3. F - Test\n",
    "4. Chi Squere Test\n",
    "5. Anova Test"
   ]
  },
  {
   "cell_type": "code",
   "execution_count": 42,
   "id": "c790e0d8",
   "metadata": {},
   "outputs": [],
   "source": [
    "import pandas as pd\n",
    "df=pd.read_csv('WineQT.csv')"
   ]
  },
  {
   "cell_type": "code",
   "execution_count": 43,
   "id": "1f899b6d",
   "metadata": {},
   "outputs": [
    {
     "data": {
      "text/html": [
       "<div>\n",
       "<style scoped>\n",
       "    .dataframe tbody tr th:only-of-type {\n",
       "        vertical-align: middle;\n",
       "    }\n",
       "\n",
       "    .dataframe tbody tr th {\n",
       "        vertical-align: top;\n",
       "    }\n",
       "\n",
       "    .dataframe thead th {\n",
       "        text-align: right;\n",
       "    }\n",
       "</style>\n",
       "<table border=\"1\" class=\"dataframe\">\n",
       "  <thead>\n",
       "    <tr style=\"text-align: right;\">\n",
       "      <th></th>\n",
       "      <th>fixed acidity</th>\n",
       "      <th>volatile acidity</th>\n",
       "      <th>citric acid</th>\n",
       "      <th>residual sugar</th>\n",
       "      <th>chlorides</th>\n",
       "      <th>free sulfur dioxide</th>\n",
       "      <th>total sulfur dioxide</th>\n",
       "      <th>density</th>\n",
       "      <th>pH</th>\n",
       "      <th>sulphates</th>\n",
       "      <th>alcohol</th>\n",
       "      <th>quality</th>\n",
       "      <th>Id</th>\n",
       "    </tr>\n",
       "  </thead>\n",
       "  <tbody>\n",
       "    <tr>\n",
       "      <th>0</th>\n",
       "      <td>7.4</td>\n",
       "      <td>0.70</td>\n",
       "      <td>0.00</td>\n",
       "      <td>1.9</td>\n",
       "      <td>0.076</td>\n",
       "      <td>11.0</td>\n",
       "      <td>34.0</td>\n",
       "      <td>0.9978</td>\n",
       "      <td>3.51</td>\n",
       "      <td>0.56</td>\n",
       "      <td>9.4</td>\n",
       "      <td>5</td>\n",
       "      <td>0</td>\n",
       "    </tr>\n",
       "    <tr>\n",
       "      <th>1</th>\n",
       "      <td>7.8</td>\n",
       "      <td>0.88</td>\n",
       "      <td>0.00</td>\n",
       "      <td>2.6</td>\n",
       "      <td>0.098</td>\n",
       "      <td>25.0</td>\n",
       "      <td>67.0</td>\n",
       "      <td>0.9968</td>\n",
       "      <td>3.20</td>\n",
       "      <td>0.68</td>\n",
       "      <td>9.8</td>\n",
       "      <td>5</td>\n",
       "      <td>1</td>\n",
       "    </tr>\n",
       "    <tr>\n",
       "      <th>2</th>\n",
       "      <td>7.8</td>\n",
       "      <td>0.76</td>\n",
       "      <td>0.04</td>\n",
       "      <td>2.3</td>\n",
       "      <td>0.092</td>\n",
       "      <td>15.0</td>\n",
       "      <td>54.0</td>\n",
       "      <td>0.9970</td>\n",
       "      <td>3.26</td>\n",
       "      <td>0.65</td>\n",
       "      <td>9.8</td>\n",
       "      <td>5</td>\n",
       "      <td>2</td>\n",
       "    </tr>\n",
       "    <tr>\n",
       "      <th>3</th>\n",
       "      <td>11.2</td>\n",
       "      <td>0.28</td>\n",
       "      <td>0.56</td>\n",
       "      <td>1.9</td>\n",
       "      <td>0.075</td>\n",
       "      <td>17.0</td>\n",
       "      <td>60.0</td>\n",
       "      <td>0.9980</td>\n",
       "      <td>3.16</td>\n",
       "      <td>0.58</td>\n",
       "      <td>9.8</td>\n",
       "      <td>6</td>\n",
       "      <td>3</td>\n",
       "    </tr>\n",
       "    <tr>\n",
       "      <th>4</th>\n",
       "      <td>7.4</td>\n",
       "      <td>0.70</td>\n",
       "      <td>0.00</td>\n",
       "      <td>1.9</td>\n",
       "      <td>0.076</td>\n",
       "      <td>11.0</td>\n",
       "      <td>34.0</td>\n",
       "      <td>0.9978</td>\n",
       "      <td>3.51</td>\n",
       "      <td>0.56</td>\n",
       "      <td>9.4</td>\n",
       "      <td>5</td>\n",
       "      <td>4</td>\n",
       "    </tr>\n",
       "  </tbody>\n",
       "</table>\n",
       "</div>"
      ],
      "text/plain": [
       "   fixed acidity  volatile acidity  citric acid  residual sugar  chlorides  \\\n",
       "0            7.4              0.70         0.00             1.9      0.076   \n",
       "1            7.8              0.88         0.00             2.6      0.098   \n",
       "2            7.8              0.76         0.04             2.3      0.092   \n",
       "3           11.2              0.28         0.56             1.9      0.075   \n",
       "4            7.4              0.70         0.00             1.9      0.076   \n",
       "\n",
       "   free sulfur dioxide  total sulfur dioxide  density    pH  sulphates  \\\n",
       "0                 11.0                  34.0   0.9978  3.51       0.56   \n",
       "1                 25.0                  67.0   0.9968  3.20       0.68   \n",
       "2                 15.0                  54.0   0.9970  3.26       0.65   \n",
       "3                 17.0                  60.0   0.9980  3.16       0.58   \n",
       "4                 11.0                  34.0   0.9978  3.51       0.56   \n",
       "\n",
       "   alcohol  quality  Id  \n",
       "0      9.4        5   0  \n",
       "1      9.8        5   1  \n",
       "2      9.8        5   2  \n",
       "3      9.8        6   3  \n",
       "4      9.4        5   4  "
      ]
     },
     "execution_count": 43,
     "metadata": {},
     "output_type": "execute_result"
    }
   ],
   "source": [
    "df.head()"
   ]
  },
  {
   "cell_type": "code",
   "execution_count": 44,
   "id": "0b977b24",
   "metadata": {},
   "outputs": [
    {
     "data": {
      "text/plain": [
       "(1143, 13)"
      ]
     },
     "execution_count": 44,
     "metadata": {},
     "output_type": "execute_result"
    }
   ],
   "source": [
    "df.shape"
   ]
  },
  {
   "cell_type": "code",
   "execution_count": 45,
   "id": "b2c9d607",
   "metadata": {},
   "outputs": [
    {
     "name": "stderr",
     "output_type": "stream",
     "text": [
      "C:\\Users\\Ranga Pavan\\AppData\\Local\\Temp\\ipykernel_27976\\2552704219.py:2: UserWarning: \n",
      "\n",
      "`distplot` is a deprecated function and will be removed in seaborn v0.14.0.\n",
      "\n",
      "Please adapt your code to use either `displot` (a figure-level function with\n",
      "similar flexibility) or `histplot` (an axes-level function for histograms).\n",
      "\n",
      "For a guide to updating your code to use the new functions, please see\n",
      "https://gist.github.com/mwaskom/de44147ed2974457ad6372750bbe5751\n",
      "\n",
      "  sns.distplot(df['fixed acidity'],kde=True )\n"
     ]
    },
    {
     "data": {
      "text/plain": [
       "<Axes: xlabel='fixed acidity', ylabel='Density'>"
      ]
     },
     "execution_count": 45,
     "metadata": {},
     "output_type": "execute_result"
    },
    {
     "data": {
      "image/png": "[encoded data removed]",
      "text/plain": [
       "<Figure size 640x480 with 1 Axes>"
      ]
     },
     "metadata": {},
     "output_type": "display_data"
    }
   ],
   "source": [
    "import seaborn as sns\n",
    "sns.distplot(df['fixed acidity'],kde=True )"
   ]
  },
  {
   "cell_type": "code",
   "execution_count": 46,
   "id": "821fce7e",
   "metadata": {},
   "outputs": [],
   "source": [
    "import matplotlib.pyplot as plt"
   ]
  },
  {
   "cell_type": "code",
   "execution_count": 47,
   "id": "73a07e6f",
   "metadata": {
    "scrolled": false
   },
   "outputs": [
    {
     "name": "stderr",
     "output_type": "stream",
     "text": [
      "C:\\Users\\Ranga Pavan\\AppData\\Local\\Temp\\ipykernel_27976\\3668567505.py:7: UserWarning: \n",
      "\n",
      "`distplot` is a deprecated function and will be removed in seaborn v0.14.0.\n",
      "\n",
      "Please adapt your code to use either `displot` (a figure-level function with\n",
      "similar flexibility) or `histplot` (an axes-level function for histograms).\n",
      "\n",
      "For a guide to updating your code to use the new functions, please see\n",
      "https://gist.github.com/mwaskom/de44147ed2974457ad6372750bbe5751\n",
      "\n",
      "  sns.distplot(df[i])\n",
      "C:\\Users\\Ranga Pavan\\AppData\\Local\\Temp\\ipykernel_27976\\3668567505.py:7: UserWarning: \n",
      "\n",
      "`distplot` is a deprecated function and will be removed in seaborn v0.14.0.\n",
      "\n",
      "Please adapt your code to use either `displot` (a figure-level function with\n",
      "similar flexibility) or `histplot` (an axes-level function for histograms).\n",
      "\n",
      "For a guide to updating your code to use the new functions, please see\n",
      "https://gist.github.com/mwaskom/de44147ed2974457ad6372750bbe5751\n",
      "\n",
      "  sns.distplot(df[i])\n",
      "C:\\Users\\Ranga Pavan\\AppData\\Local\\Temp\\ipykernel_27976\\3668567505.py:7: UserWarning: \n",
      "\n",
      "`distplot` is a deprecated function and will be removed in seaborn v0.14.0.\n",
      "\n",
      "Please adapt your code to use either `displot` (a figure-level function with\n",
      "similar flexibility) or `histplot` (an axes-level function for histograms).\n",
      "\n",
      "For a guide to updating your code to use the new functions, please see\n",
      "https://gist.github.com/mwaskom/de44147ed2974457ad6372750bbe5751\n",
      "\n",
      "  sns.distplot(df[i])\n",
      "C:\\Users\\Ranga Pavan\\AppData\\Local\\Temp\\ipykernel_27976\\3668567505.py:7: UserWarning: \n",
      "\n",
      "`distplot` is a deprecated function and will be removed in seaborn v0.14.0.\n",
      "\n",
      "Please adapt your code to use either `displot` (a figure-level function with\n",
      "similar flexibility) or `histplot` (an axes-level function for histograms).\n",
      "\n",
      "For a guide to updating your code to use the new functions, please see\n",
      "https://gist.github.com/mwaskom/de44147ed2974457ad6372750bbe5751\n",
      "\n",
      "  sns.distplot(df[i])\n",
      "C:\\Users\\Ranga Pavan\\AppData\\Local\\Temp\\ipykernel_27976\\3668567505.py:7: UserWarning: \n",
      "\n",
      "`distplot` is a deprecated function and will be removed in seaborn v0.14.0.\n",
      "\n",
      "Please adapt your code to use either `displot` (a figure-level function with\n",
      "similar flexibility) or `histplot` (an axes-level function for histograms).\n",
      "\n",
      "For a guide to updating your code to use the new functions, please see\n",
      "https://gist.github.com/mwaskom/de44147ed2974457ad6372750bbe5751\n",
      "\n",
      "  sns.distplot(df[i])\n",
      "C:\\Users\\Ranga Pavan\\AppData\\Local\\Temp\\ipykernel_27976\\3668567505.py:7: UserWarning: \n",
      "\n",
      "`distplot` is a deprecated function and will be removed in seaborn v0.14.0.\n",
      "\n",
      "Please adapt your code to use either `displot` (a figure-level function with\n",
      "similar flexibility) or `histplot` (an axes-level function for histograms).\n",
      "\n",
      "For a guide to updating your code to use the new functions, please see\n",
      "https://gist.github.com/mwaskom/de44147ed2974457ad6372750bbe5751\n",
      "\n",
      "  sns.distplot(df[i])\n",
      "C:\\Users\\Ranga Pavan\\AppData\\Local\\Temp\\ipykernel_27976\\3668567505.py:7: UserWarning: \n",
      "\n",
      "`distplot` is a deprecated function and will be removed in seaborn v0.14.0.\n",
      "\n",
      "Please adapt your code to use either `displot` (a figure-level function with\n",
      "similar flexibility) or `histplot` (an axes-level function for histograms).\n",
      "\n",
      "For a guide to updating your code to use the new functions, please see\n",
      "https://gist.github.com/mwaskom/de44147ed2974457ad6372750bbe5751\n",
      "\n",
      "  sns.distplot(df[i])\n",
      "C:\\Users\\Ranga Pavan\\AppData\\Local\\Temp\\ipykernel_27976\\3668567505.py:7: UserWarning: \n",
      "\n",
      "`distplot` is a deprecated function and will be removed in seaborn v0.14.0.\n",
      "\n",
      "Please adapt your code to use either `displot` (a figure-level function with\n",
      "similar flexibility) or `histplot` (an axes-level function for histograms).\n",
      "\n",
      "For a guide to updating your code to use the new functions, please see\n",
      "https://gist.github.com/mwaskom/de44147ed2974457ad6372750bbe5751\n",
      "\n",
      "  sns.distplot(df[i])\n",
      "C:\\Users\\Ranga Pavan\\AppData\\Local\\Temp\\ipykernel_27976\\3668567505.py:7: UserWarning: \n",
      "\n",
      "`distplot` is a deprecated function and will be removed in seaborn v0.14.0.\n",
      "\n",
      "Please adapt your code to use either `displot` (a figure-level function with\n",
      "similar flexibility) or `histplot` (an axes-level function for histograms).\n",
      "\n",
      "For a guide to updating your code to use the new functions, please see\n",
      "https://gist.github.com/mwaskom/de44147ed2974457ad6372750bbe5751\n",
      "\n",
      "  sns.distplot(df[i])\n",
      "C:\\Users\\Ranga Pavan\\AppData\\Local\\Temp\\ipykernel_27976\\3668567505.py:7: UserWarning: \n",
      "\n",
      "`distplot` is a deprecated function and will be removed in seaborn v0.14.0.\n",
      "\n",
      "Please adapt your code to use either `displot` (a figure-level function with\n",
      "similar flexibility) or `histplot` (an axes-level function for histograms).\n",
      "\n",
      "For a guide to updating your code to use the new functions, please see\n",
      "https://gist.github.com/mwaskom/de44147ed2974457ad6372750bbe5751\n",
      "\n",
      "  sns.distplot(df[i])\n",
      "C:\\Users\\Ranga Pavan\\AppData\\Local\\Temp\\ipykernel_27976\\3668567505.py:7: UserWarning: \n",
      "\n",
      "`distplot` is a deprecated function and will be removed in seaborn v0.14.0.\n",
      "\n",
      "Please adapt your code to use either `displot` (a figure-level function with\n",
      "similar flexibility) or `histplot` (an axes-level function for histograms).\n",
      "\n",
      "For a guide to updating your code to use the new functions, please see\n",
      "https://gist.github.com/mwaskom/de44147ed2974457ad6372750bbe5751\n",
      "\n",
      "  sns.distplot(df[i])\n",
      "C:\\Users\\Ranga Pavan\\AppData\\Local\\Temp\\ipykernel_27976\\3668567505.py:7: UserWarning: \n",
      "\n",
      "`distplot` is a deprecated function and will be removed in seaborn v0.14.0.\n",
      "\n",
      "Please adapt your code to use either `displot` (a figure-level function with\n",
      "similar flexibility) or `histplot` (an axes-level function for histograms).\n",
      "\n",
      "For a guide to updating your code to use the new functions, please see\n",
      "https://gist.github.com/mwaskom/de44147ed2974457ad6372750bbe5751\n",
      "\n",
      "  sns.distplot(df[i])\n",
      "C:\\Users\\Ranga Pavan\\AppData\\Local\\Temp\\ipykernel_27976\\3668567505.py:7: UserWarning: \n",
      "\n",
      "`distplot` is a deprecated function and will be removed in seaborn v0.14.0.\n",
      "\n",
      "Please adapt your code to use either `displot` (a figure-level function with\n",
      "similar flexibility) or `histplot` (an axes-level function for histograms).\n",
      "\n",
      "For a guide to updating your code to use the new functions, please see\n",
      "https://gist.github.com/mwaskom/de44147ed2974457ad6372750bbe5751\n",
      "\n",
      "  sns.distplot(df[i])\n"
     ]
    },
    {
     "data": {
      "image/png": "[encoded data removed]",
      "text/plain": [
       "<Figure size 1500x1000 with 13 Axes>"
      ]
     },
     "metadata": {},
     "output_type": "display_data"
    }
   ],
   "source": [
    "plt.figure(figsize=(15,10))\n",
    "plt.suptitle('Normal distribution of all columns',fontsize=20, fontweight='bold')\n",
    "j=0\n",
    "for i in df.columns:\n",
    "    j+=1\n",
    "    plt.subplot(5,3,j)\n",
    "    sns.distplot(df[i])\n",
    "    plt.xlabel(i+'Normal Distibution')\n",
    "plt.tight_layout()\n",
    " \n",
    "plt.show()"
   ]
  },
  {
   "cell_type": "code",
   "execution_count": 48,
   "id": "6495d062",
   "metadata": {},
   "outputs": [
    {
     "name": "stderr",
     "output_type": "stream",
     "text": [
      "C:\\Users\\Ranga Pavan\\AppData\\Local\\Temp\\ipykernel_27976\\1778292346.py:7: FutureWarning: \n",
      "\n",
      "`shade` is now deprecated in favor of `fill`; setting `fill=True`.\n",
      "This will become an error in seaborn v0.14.0; please update your code.\n",
      "\n",
      "  sns.kdeplot(df[i],shade=True,color='r')\n",
      "C:\\Users\\Ranga Pavan\\AppData\\Local\\Temp\\ipykernel_27976\\1778292346.py:7: FutureWarning: \n",
      "\n",
      "`shade` is now deprecated in favor of `fill`; setting `fill=True`.\n",
      "This will become an error in seaborn v0.14.0; please update your code.\n",
      "\n",
      "  sns.kdeplot(df[i],shade=True,color='r')\n",
      "C:\\Users\\Ranga Pavan\\AppData\\Local\\Temp\\ipykernel_27976\\1778292346.py:7: FutureWarning: \n",
      "\n",
      "`shade` is now deprecated in favor of `fill`; setting `fill=True`.\n",
      "This will become an error in seaborn v0.14.0; please update your code.\n",
      "\n",
      "  sns.kdeplot(df[i],shade=True,color='r')\n",
      "C:\\Users\\Ranga Pavan\\AppData\\Local\\Temp\\ipykernel_27976\\1778292346.py:7: FutureWarning: \n",
      "\n",
      "`shade` is now deprecated in favor of `fill`; setting `fill=True`.\n",
      "This will become an error in seaborn v0.14.0; please update your code.\n",
      "\n",
      "  sns.kdeplot(df[i],shade=True,color='r')\n",
      "C:\\Users\\Ranga Pavan\\AppData\\Local\\Temp\\ipykernel_27976\\1778292346.py:7: FutureWarning: \n",
      "\n",
      "`shade` is now deprecated in favor of `fill`; setting `fill=True`.\n",
      "This will become an error in seaborn v0.14.0; please update your code.\n",
      "\n",
      "  sns.kdeplot(df[i],shade=True,color='r')\n",
      "C:\\Users\\Ranga Pavan\\AppData\\Local\\Temp\\ipykernel_27976\\1778292346.py:7: FutureWarning: \n",
      "\n",
      "`shade` is now deprecated in favor of `fill`; setting `fill=True`.\n",
      "This will become an error in seaborn v0.14.0; please update your code.\n",
      "\n",
      "  sns.kdeplot(df[i],shade=True,color='r')\n",
      "C:\\Users\\Ranga Pavan\\AppData\\Local\\Temp\\ipykernel_27976\\1778292346.py:7: FutureWarning: \n",
      "\n",
      "`shade` is now deprecated in favor of `fill`; setting `fill=True`.\n",
      "This will become an error in seaborn v0.14.0; please update your code.\n",
      "\n",
      "  sns.kdeplot(df[i],shade=True,color='r')\n",
      "C:\\Users\\Ranga Pavan\\AppData\\Local\\Temp\\ipykernel_27976\\1778292346.py:7: FutureWarning: \n",
      "\n",
      "`shade` is now deprecated in favor of `fill`; setting `fill=True`.\n",
      "This will become an error in seaborn v0.14.0; please update your code.\n",
      "\n",
      "  sns.kdeplot(df[i],shade=True,color='r')\n",
      "C:\\Users\\Ranga Pavan\\AppData\\Local\\Temp\\ipykernel_27976\\1778292346.py:7: FutureWarning: \n",
      "\n",
      "`shade` is now deprecated in favor of `fill`; setting `fill=True`.\n",
      "This will become an error in seaborn v0.14.0; please update your code.\n",
      "\n",
      "  sns.kdeplot(df[i],shade=True,color='r')\n",
      "C:\\Users\\Ranga Pavan\\AppData\\Local\\Temp\\ipykernel_27976\\1778292346.py:7: FutureWarning: \n",
      "\n",
      "`shade` is now deprecated in favor of `fill`; setting `fill=True`.\n",
      "This will become an error in seaborn v0.14.0; please update your code.\n",
      "\n",
      "  sns.kdeplot(df[i],shade=True,color='r')\n",
      "C:\\Users\\Ranga Pavan\\AppData\\Local\\Temp\\ipykernel_27976\\1778292346.py:7: FutureWarning: \n",
      "\n",
      "`shade` is now deprecated in favor of `fill`; setting `fill=True`.\n",
      "This will become an error in seaborn v0.14.0; please update your code.\n",
      "\n",
      "  sns.kdeplot(df[i],shade=True,color='r')\n",
      "C:\\Users\\Ranga Pavan\\AppData\\Local\\Temp\\ipykernel_27976\\1778292346.py:7: FutureWarning: \n",
      "\n",
      "`shade` is now deprecated in favor of `fill`; setting `fill=True`.\n",
      "This will become an error in seaborn v0.14.0; please update your code.\n",
      "\n",
      "  sns.kdeplot(df[i],shade=True,color='r')\n",
      "C:\\Users\\Ranga Pavan\\AppData\\Local\\Temp\\ipykernel_27976\\1778292346.py:7: FutureWarning: \n",
      "\n",
      "`shade` is now deprecated in favor of `fill`; setting `fill=True`.\n",
      "This will become an error in seaborn v0.14.0; please update your code.\n",
      "\n",
      "  sns.kdeplot(df[i],shade=True,color='r')\n"
     ]
    },
    {
     "data": {
      "image/png": "[encoded data removed]",
      "text/plain": [
       "<Figure size 1500x1000 with 13 Axes>"
      ]
     },
     "metadata": {},
     "output_type": "display_data"
    }
   ],
   "source": [
    "plt.figure(figsize=(15,10))\n",
    "plt.suptitle('Normal distribution of all columns',fontsize=20, fontweight='bold')\n",
    "j=0\n",
    "for i in df.columns:\n",
    "    j+=1\n",
    "    plt.subplot(5,3,j)\n",
    "    sns.kdeplot(df[i],shade=True,color='r')\n",
    "    plt.xlabel(i+' Normal Distibution')\n",
    "plt.tight_layout()\n",
    " \n",
    "plt.show()"
   ]
  },
  {
   "cell_type": "code",
   "execution_count": 49,
   "id": "eaab71cd",
   "metadata": {},
   "outputs": [
    {
     "data": {
      "text/plain": [
       "Index(['fixed acidity', 'volatile acidity', 'citric acid', 'residual sugar',\n",
       "       'chlorides', 'free sulfur dioxide', 'total sulfur dioxide', 'density',\n",
       "       'pH', 'sulphates', 'alcohol', 'quality', 'Id'],\n",
       "      dtype='object')"
      ]
     },
     "execution_count": 49,
     "metadata": {},
     "output_type": "execute_result"
    }
   ],
   "source": [
    "df.columns"
   ]
  },
  {
   "cell_type": "code",
   "execution_count": 50,
   "id": "98b21769",
   "metadata": {},
   "outputs": [
    {
     "data": {
      "text/plain": [
       "ShapiroResult(statistic=0.9367085695266724, pvalue=1.2384895078480934e-21)"
      ]
     },
     "execution_count": 50,
     "metadata": {},
     "output_type": "execute_result"
    }
   ],
   "source": [
    "### Z - Test and PValues\n",
    "from scipy import stats\n",
    "stats.shapiro(df['fixed acidity'])"
   ]
  },
  {
   "cell_type": "code",
   "execution_count": 51,
   "id": "50e16d90",
   "metadata": {},
   "outputs": [
    {
     "data": {
      "text/plain": [
       "ShapiroResult(statistic=0.9742149114608765, pvalue=2.1307489193184148e-13)"
      ]
     },
     "execution_count": 51,
     "metadata": {},
     "output_type": "execute_result"
    }
   ],
   "source": [
    "stats.shapiro(df['volatile acidity'])"
   ]
  },
  {
   "cell_type": "code",
   "execution_count": 52,
   "id": "d7dc3792",
   "metadata": {},
   "outputs": [
    {
     "data": {
      "text/plain": [
       "ShapiroResult(statistic=0.8547005653381348, pvalue=3.61023655476521e-31)"
      ]
     },
     "execution_count": 52,
     "metadata": {},
     "output_type": "execute_result"
    }
   ],
   "source": [
    "stats.shapiro(df['quality'])"
   ]
  },
  {
   "cell_type": "code",
   "execution_count": 53,
   "id": "6b854e8b",
   "metadata": {},
   "outputs": [
    {
     "data": {
      "text/plain": [
       "ShapiroResult(statistic=0.9531791806221008, pvalue=1.2482969182352787e-18)"
      ]
     },
     "execution_count": 53,
     "metadata": {},
     "output_type": "execute_result"
    }
   ],
   "source": [
    "stats.shapiro(df['Id'])"
   ]
  },
  {
   "cell_type": "code",
   "execution_count": 54,
   "id": "a7ccbacb",
   "metadata": {},
   "outputs": [
    {
     "data": {
      "text/plain": [
       "ShapiroResult(statistic=0.4692739248275757, pvalue=0.0)"
      ]
     },
     "execution_count": 54,
     "metadata": {},
     "output_type": "execute_result"
    }
   ],
   "source": [
    "stats.shapiro(df['chlorides'])"
   ]
  },
  {
   "cell_type": "code",
   "execution_count": 55,
   "id": "eedf3f70",
   "metadata": {},
   "outputs": [],
   "source": [
    "from numpy.random import randn"
   ]
  },
  {
   "cell_type": "code",
   "execution_count": 56,
   "id": "ab615431",
   "metadata": {},
   "outputs": [],
   "source": [
    "d1=randn(1000)"
   ]
  },
  {
   "cell_type": "code",
   "execution_count": 57,
   "id": "cc9c7144",
   "metadata": {},
   "outputs": [
    {
     "data": {
      "text/plain": [
       "array([ 1.67115371, -0.39132019,  1.02538026, -0.32707293, -1.99100735,\n",
       "        0.16790528, -0.39113098, -0.03259005, -0.13752605,  1.27246804,\n",
       "       -0.26228738, -0.04306356,  0.66859153, -0.48999563, -0.92845067,\n",
       "        1.410362  ,  1.53632965, -1.45989419, -1.18640988, -0.77741559,\n",
       "       -1.39215843,  1.90389267,  1.9269965 , -0.99205419,  0.19821269,\n",
       "        0.07949847, -1.18272329, -0.93718894,  1.91353792, -0.38252564,\n",
       "       -0.8764408 , -1.13822377, -0.13348436, -1.37942219, -1.70653195,\n",
       "       -0.82518916,  1.13788096, -0.31979264, -0.13222381, -1.03054556,\n",
       "        0.8371661 , -1.01332127,  0.17254581,  0.99949122, -0.75666108,\n",
       "        0.47766601,  0.76202385, -0.16302705,  0.40808536, -1.13789074,\n",
       "        0.04079223, -0.2602125 , -0.27636391,  1.10316942, -0.91155855,\n",
       "       -0.82467531, -0.95395058,  0.29926222,  0.61102828, -1.33457031,\n",
       "        0.41498783,  0.27176175,  0.43509443,  1.71871066,  0.30514556,\n",
       "        1.50847561, -0.62429559, -0.75897676, -1.04547971,  0.60538945,\n",
       "        0.2426352 ,  0.00425158, -0.19988272,  1.22974841,  0.06807494,\n",
       "       -0.34149932, -0.25225606, -0.65265337,  0.36351617, -0.64288155,\n",
       "        0.93740417, -0.86983902,  0.38056182, -0.62706966,  0.28664006,\n",
       "        0.99328621,  0.13500956, -1.36144025, -0.73059834,  0.75915852,\n",
       "       -0.27220854,  0.61289882,  0.07144102, -1.15129621,  0.42551099,\n",
       "        0.44392964,  1.56650061, -1.08363641,  0.29539249, -0.49661146,\n",
       "       -0.45877455, -1.8882916 ,  0.40177532,  2.5594001 ,  0.27965166,\n",
       "        0.63893805, -0.90557334,  0.76612828,  1.56580911,  0.91786335,\n",
       "        0.42302006, -0.40919143,  2.27458071, -1.57273453,  0.88267956,\n",
       "        1.07715156,  1.96057751, -1.30357512,  0.03267395, -1.59815438,\n",
       "       -0.4259371 , -0.4112354 ,  2.74387071, -1.16974852,  0.31215913,\n",
       "        0.62219894, -0.59073111,  0.61608474, -0.34371833, -2.50002988,\n",
       "       -0.08133901, -1.24188062,  1.05251268, -1.29558529, -2.00809065,\n",
       "       -0.48698091,  0.96429456, -0.11775696, -0.69433244,  0.94907002,\n",
       "       -0.65947243, -0.82845715, -1.32968963, -0.30382436, -0.2013238 ,\n",
       "       -0.12504937, -0.21614958,  0.35239104,  1.34594415, -0.39416667,\n",
       "       -0.66210921,  0.97259475, -1.38353333, -1.61408146,  0.53661592,\n",
       "        1.56571548,  1.11875464, -1.27008222, -0.14522521,  1.63689191,\n",
       "       -0.06662132,  1.98096595,  0.14467144,  0.01086296, -0.18977932,\n",
       "       -0.05355055, -1.1954715 , -0.28196981, -0.07585312, -1.25112637,\n",
       "        0.01357676,  0.55714006, -1.79735473, -0.02553772, -0.27795485,\n",
       "        2.19445237, -0.48236246, -0.22157309, -1.12741113, -0.7056661 ,\n",
       "        0.95740643,  1.19398671, -0.24783362,  0.74667758, -0.81462057,\n",
       "        1.79058156,  0.73776629, -1.07715145,  1.14366668,  1.55367798,\n",
       "        0.73613413, -3.02285881,  0.68306545,  0.19599865,  0.67893096,\n",
       "        1.51796164,  0.09906336,  0.43079258, -0.12785891, -1.01927885,\n",
       "       -2.15495079, -0.24922642,  0.49459986, -1.06933914,  0.71551135,\n",
       "        0.35002305, -0.22851631,  1.22280368, -0.87680203, -1.52446033,\n",
       "       -0.53891746,  0.80161963,  1.77251775, -1.50521111, -1.60789977,\n",
       "       -2.12068225, -0.52043274,  0.77060163, -0.73455231,  1.22189454,\n",
       "        0.74561351, -1.83932506,  0.46812054,  0.78301268, -1.57637379,\n",
       "        1.47358919,  0.89833611,  1.10535543, -0.69957415, -0.52820011,\n",
       "       -1.01356296,  0.3491297 ,  0.00505483, -0.1701303 ,  0.56160502,\n",
       "       -1.07915307, -0.35310061, -0.98001957,  0.47807406, -0.64845548,\n",
       "       -0.64921083, -0.92861327,  1.00678556,  1.40712371,  0.06803677,\n",
       "        0.05135075, -0.0173434 , -1.13058242, -0.55707803,  0.77878138,\n",
       "       -0.71074289,  1.80024898,  1.42023662,  0.40447134,  0.33279989,\n",
       "        1.24634361, -0.74393769,  1.71334004, -0.73896188, -0.99158999,\n",
       "       -2.19112746,  0.95522025,  0.36063307,  1.92438745,  0.12079593,\n",
       "        0.79206647, -0.93594359, -0.81449895, -0.74014492,  0.67014283,\n",
       "        0.84357491,  1.80231177,  0.77509478, -0.81962179, -0.62191591,\n",
       "        1.09742149, -0.61023544, -0.44470517, -2.35460324, -1.18167613,\n",
       "        0.16507374, -2.5603023 , -0.62023506,  0.09827167, -1.35722155,\n",
       "       -0.80210744, -0.24549089,  0.16560515,  0.80859588,  1.44698349,\n",
       "       -0.31453513,  0.59526367,  0.43130405,  0.74476559,  0.43167642,\n",
       "        1.30794736,  0.24017455, -0.36343438,  0.24972966,  0.11233363,\n",
       "       -0.14716743,  0.41264518,  0.32893813, -0.59472712,  0.43824833,\n",
       "        0.30589523,  3.58863423, -1.43751394, -0.01696097, -1.00597188,\n",
       "       -0.79350988, -0.09818107, -0.89553729, -0.30337896,  0.91914893,\n",
       "       -0.69951885, -0.12866146, -1.13124737,  2.13136273, -0.02312526,\n",
       "       -0.3891188 , -1.37197595, -0.44737037, -1.54101131,  0.0402369 ,\n",
       "        1.59878076, -1.47994454,  0.58165898,  0.19668155, -1.08450966,\n",
       "        0.8856801 ,  0.70421844, -0.86358462, -2.32005529, -0.22086455,\n",
       "       -0.1851787 ,  0.04779553,  0.31755419,  1.02826175, -0.89078519,\n",
       "       -1.87877756, -0.78193222, -0.72311046, -0.90977332, -1.30943543,\n",
       "       -0.19235421, -0.31515456, -0.35224838, -0.67443224, -0.1836831 ,\n",
       "       -0.19938416,  2.60614507,  0.82039177, -0.21002805,  0.19631008,\n",
       "        0.12688675,  0.42012633,  0.87086305, -1.09774666,  1.56092945,\n",
       "        2.20314943,  1.37943348, -0.67511441,  0.97213745,  1.31652982,\n",
       "        0.62212626,  2.10868898,  1.59376873, -0.85659881, -0.26034269,\n",
       "       -1.75264953,  0.02861616, -0.68512442, -0.59671624, -0.24064261,\n",
       "       -1.14912432,  0.80254303, -0.06123213, -0.97153232,  0.87935441,\n",
       "       -0.09643062,  0.40907439,  0.29657373,  0.20046238, -0.16722203,\n",
       "       -0.7638154 ,  1.38777935,  1.89269756, -0.78509124, -0.16288095,\n",
       "        1.53298248, -1.74169975, -2.42648255,  0.8044263 ,  1.55922779,\n",
       "        1.48531922,  0.48682516,  1.03720918,  0.72616933,  1.21349474,\n",
       "        1.19212436,  0.50852418,  0.36437369,  1.03534747,  1.76230558,\n",
       "       -1.89672754, -0.03099541,  0.21299627,  0.38622064,  0.43724473,\n",
       "        0.19200012,  0.62024574, -1.27407215, -0.944805  , -0.78336306,\n",
       "       -0.18521915,  0.40329322, -0.85955742, -0.33656647, -0.19460281,\n",
       "        0.77231756, -0.45562371,  1.35140744, -0.93828092, -2.27797885,\n",
       "       -1.07432486,  0.37646813,  0.93667916, -0.57476558,  0.36186535,\n",
       "       -0.04896962, -0.37765013, -1.95735496,  1.13599652,  0.06388449,\n",
       "        2.4370534 ,  0.01959816, -1.6227005 , -0.18985559,  2.69071273,\n",
       "       -1.19763948, -1.7455428 ,  1.42754405,  0.02684835, -0.09784208,\n",
       "        1.45975854,  1.84899097, -0.11650839, -0.19885441, -1.84166305,\n",
       "        1.09990877,  0.62229784, -0.34084645, -0.16449714,  0.15801977,\n",
       "        0.0990042 ,  0.14927239,  0.32145148,  0.72356912, -0.0425529 ,\n",
       "        0.58410093, -0.84312565, -0.38867131,  0.12029915,  0.78919601,\n",
       "        0.38963661,  0.10997431, -1.58399837,  0.57828215, -0.46916621,\n",
       "        0.75650494, -0.38356378, -0.64872163, -1.07358711,  0.76493073,\n",
       "        0.29275935,  2.09522475,  1.22690494,  1.33198825, -0.85236838,\n",
       "        0.19121992, -0.43805505, -0.85214811, -0.61555416,  0.58026227,\n",
       "       -0.05176238, -0.26225537,  0.18664894,  0.0851347 , -0.93546585,\n",
       "       -0.37660301,  1.26397589, -0.18455114, -0.08872295, -0.34043859,\n",
       "        0.78032455,  0.95522062,  1.29501424, -0.1604206 , -1.51758829,\n",
       "       -1.01807214,  1.00339773, -0.38083542,  1.93831746, -0.32326171,\n",
       "       -1.05488242,  0.37308408, -0.42158376,  0.10459136,  0.0944627 ,\n",
       "        1.00642307, -0.57030096, -0.20595408,  0.07894814, -0.9322263 ,\n",
       "        1.33143468, -1.48203859,  0.79218717,  0.25903228,  0.15655113,\n",
       "        0.54586311, -1.58911333, -1.52080649, -0.97177717, -0.41325239,\n",
       "       -0.45307514,  0.20631526,  0.06245153,  0.08401996, -0.69849184,\n",
       "        0.36672629,  0.07209364,  1.76684142, -0.89095292,  1.14097317,\n",
       "       -0.26480806,  0.67779312,  0.31942824,  1.0630758 , -0.03757032,\n",
       "       -0.75652646, -0.91069513, -0.70521864,  0.20420343, -0.65414725,\n",
       "       -0.3495937 ,  0.18587331,  0.90948174,  0.39066523, -0.36961578,\n",
       "       -0.87315994,  0.17107613, -0.7707513 , -0.09488113,  0.63340718,\n",
       "       -0.81532227,  1.64553849,  0.05256592, -0.51745483,  0.60129864,\n",
       "        0.25484005, -0.15586658, -0.29682548,  0.77391425,  0.56752198,\n",
       "        0.47160635, -0.39931158,  1.19087174, -1.34925357, -1.42001648,\n",
       "       -1.34568264, -0.0888687 , -0.70636388,  0.31118967, -0.70653042,\n",
       "       -0.84116002, -0.07577075, -1.60090286,  0.54013035, -0.36934753,\n",
       "       -0.83205829, -0.01016584, -1.25186825,  0.40377585, -0.51473435,\n",
       "       -0.8279158 ,  0.34617722, -0.12854957,  0.92200189, -0.04378836,\n",
       "       -0.08295791,  0.77723228,  0.93594956, -0.9316922 ,  1.8515671 ,\n",
       "        1.08254363, -0.43105947,  0.62239863, -0.14426563,  1.84664983,\n",
       "       -0.21758299, -0.10187923, -1.9214325 , -1.3409246 , -0.85034178,\n",
       "       -0.09277164, -0.70499054,  0.11544246, -1.99931311, -0.81837833,\n",
       "       -0.67322492, -0.09971545, -0.34799321,  0.72758266, -0.15236962,\n",
       "       -0.73735279, -1.26815933, -1.30910841, -1.24031718,  0.58480883,\n",
       "       -0.52568435,  0.46526965, -0.12348238, -2.09622805,  0.22502374,\n",
       "       -0.38271095, -1.45452312,  0.76466119, -0.7753949 ,  0.88826872,\n",
       "        0.15562938, -0.58273579,  1.25469112,  0.25993118, -1.22968374,\n",
       "        0.5699789 , -0.81826994,  0.31304576,  0.88378486, -0.78199405,\n",
       "        0.2225527 ,  0.47999999, -0.50441717, -0.66777971,  0.44128619,\n",
       "        0.97047257,  1.45224155, -0.96427318, -0.01004659,  0.73665646,\n",
       "       -0.82885667,  0.70386448,  0.29244504,  0.19581389,  0.37757931,\n",
       "       -1.28421886,  0.31313233,  0.12453232, -0.07323597,  0.21269704,\n",
       "        0.22376778,  0.44892723,  1.13398077, -0.69682035, -0.87372059,\n",
       "        0.27441393, -0.53182747,  0.79608658, -1.05043171,  1.00108518,\n",
       "       -1.26651888, -0.47089524, -0.56848228, -0.08881438, -0.15749286,\n",
       "       -0.5464628 ,  0.26525025, -1.21241808,  0.14627564, -0.83763067,\n",
       "        0.44046706, -0.56483931, -0.75928804, -0.91146387,  0.99275182,\n",
       "       -0.54528762, -0.55646279,  1.15754086, -0.57827019, -0.96562956,\n",
       "        0.46711565, -0.58355273,  0.05557416,  1.70297985, -0.93060662,\n",
       "       -1.85625032,  0.86021681, -2.48148579,  0.63363278, -0.76698815,\n",
       "        0.41690597, -0.08677503, -0.91981852, -2.15101983,  0.78412801,\n",
       "        0.74706848, -0.95650553,  0.95443588,  0.55102278,  1.05080189,\n",
       "        1.42160103,  1.32034008, -0.21095856,  0.23994325, -1.07749152,\n",
       "       -1.50917323, -0.43184545,  1.18445501,  0.07593119, -0.35711323,\n",
       "       -0.12387202, -1.10985308, -0.13130523, -0.76596987, -0.48500282,\n",
       "       -1.01212978, -0.44364189, -0.39381863,  0.68071803,  0.73168483,\n",
       "       -0.01953704,  0.33930889,  3.07190837, -0.7169025 , -0.15177335,\n",
       "       -0.9179265 ,  2.05019325,  0.92772647,  0.51330028,  0.4524445 ,\n",
       "        1.99374744,  0.28950435, -0.33048576,  0.180322  , -1.72787708,\n",
       "        0.15577426, -0.21425286, -1.67877291, -2.32302843,  0.91133804,\n",
       "        0.09212881,  0.75387454,  0.44289726, -1.4137966 , -0.79948667,\n",
       "        0.31009058,  0.11068679, -1.06141179, -0.32060341,  2.06469147,\n",
       "        0.14830955, -0.92038403,  1.38574174,  0.53870152, -0.36054182,\n",
       "        0.52226554, -0.52273077,  0.49654343, -0.87342686, -0.38171332,\n",
       "       -1.26370173,  0.00514634, -0.43690027, -1.06009052,  0.99497301,\n",
       "       -0.97263824,  0.96171433, -1.79923114, -0.67640107, -0.45010436,\n",
       "       -0.3670989 , -0.56320111, -0.37161144,  0.54129649,  1.88601297,\n",
       "       -0.51727635,  0.92337592,  0.44056593,  1.13257711,  1.20065859,\n",
       "       -0.68707436, -0.05817189,  1.52874336, -0.96844685, -0.11826614,\n",
       "        0.63649177,  0.43364046, -1.336321  ,  0.60153789,  0.67418774,\n",
       "        0.37183288,  1.19522422, -0.03709326,  0.05817275,  0.32839173,\n",
       "       -1.08737014,  0.19115101, -0.33806918,  0.03314034,  0.67397829,\n",
       "        0.06671102,  1.56157545,  1.04065805,  1.30069473,  1.25112027,\n",
       "        0.7360641 ,  0.04312069,  1.09313196, -1.07740273,  0.70204076,\n",
       "        0.57919512, -0.9337292 ,  0.51371728,  0.46947471,  1.16195948,\n",
       "       -1.01913616, -0.9435654 ,  0.15152605,  0.63181943, -0.87234338,\n",
       "        2.3846934 , -1.24393336,  0.8589549 , -0.64597455,  0.67017268,\n",
       "       -0.90786109,  1.33793653,  0.50954356,  0.64956372, -1.21180376,\n",
       "        1.94814915,  0.91358068,  0.67101908,  0.37765528,  0.23783568,\n",
       "       -0.63090107, -0.79644205,  0.29197088,  2.00510966,  0.69543908,\n",
       "       -2.09330672, -0.23537367, -0.43026147, -1.56084411,  0.37436196,\n",
       "        1.30471632,  0.3564854 ,  0.75175462, -0.20387787,  0.6774546 ,\n",
       "        0.68503722, -0.21044912,  0.17655235,  2.50012975,  0.88295594,\n",
       "        1.76239764, -0.86089352, -0.90229152,  1.20609208, -0.67118396,\n",
       "       -0.84639617, -0.59932613, -0.49489012, -1.15415252, -0.35455055,\n",
       "       -1.61735203, -1.5976564 ,  0.40695899, -1.90267322,  1.41463858,\n",
       "       -0.75048962,  0.00494501, -1.4858006 , -0.26463418, -0.65208659,\n",
       "        0.71868575, -0.87116369,  2.26546351,  0.88193718,  0.54169336,\n",
       "       -2.07360328, -1.2750127 , -0.37761352,  0.08121378,  1.57510987,\n",
       "       -0.39738299, -1.72810587,  1.81897112, -0.58601943, -0.28863688,\n",
       "       -1.79686879, -0.52539176,  0.54176161, -1.44071707, -0.35739601,\n",
       "        0.74976787,  0.12989313, -0.69069929,  0.69638372, -0.29994807,\n",
       "       -0.48422561,  1.65367431, -0.76243358, -0.06392502,  1.08188764,\n",
       "       -0.54617631, -0.50809946,  0.07146538,  1.42328152, -0.83199496,\n",
       "       -1.11904585,  0.65782903,  0.8574848 , -0.30812583, -1.45345902,\n",
       "       -0.23831936, -0.29028263,  1.38676142, -0.8895495 , -2.75335466,\n",
       "        0.2169137 , -0.11541629,  0.20332546, -1.16535953,  2.25670497,\n",
       "       -2.32284731,  0.24321497,  0.4885831 , -0.57534169, -1.77793875,\n",
       "        0.82267373,  2.22022293,  1.46360767, -0.65550361, -0.13493706,\n",
       "       -1.22930058,  0.63166056,  0.09960132,  0.55655623, -0.33317658,\n",
       "       -0.34700769,  0.12188848,  0.98056745,  1.12106276,  1.1419694 ,\n",
       "        0.80690583,  0.54360743,  0.26652018, -1.55426984, -0.22720419,\n",
       "       -0.7804689 , -2.40739757,  1.02508818, -0.09284209,  0.41221618,\n",
       "       -0.52683005, -0.13229817,  2.59200582, -0.39613663,  0.78518628,\n",
       "       -1.73143886,  1.41327753, -0.52816204,  0.13644083,  0.46329034,\n",
       "        2.09491894, -1.18111547,  0.19267216, -0.37730702, -0.45326526,\n",
       "        1.08865534, -0.18840239,  0.51142221, -0.36593125, -0.83237183,\n",
       "       -0.19882912,  0.94255781,  0.96562085,  1.48383266, -1.35476736,\n",
       "        1.74923078,  0.73263311,  0.08668594, -0.37834263, -0.0336499 ,\n",
       "        0.01848162, -0.94839166,  0.46940964,  0.02223687, -0.26031117])"
      ]
     },
     "execution_count": 57,
     "metadata": {},
     "output_type": "execute_result"
    }
   ],
   "source": [
    "d1"
   ]
  },
  {
   "cell_type": "code",
   "execution_count": 58,
   "id": "96303abc",
   "metadata": {},
   "outputs": [
    {
     "name": "stderr",
     "output_type": "stream",
     "text": [
      "C:\\Users\\Ranga Pavan\\AppData\\Local\\Temp\\ipykernel_27976\\1617833107.py:1: UserWarning: \n",
      "\n",
      "`distplot` is a deprecated function and will be removed in seaborn v0.14.0.\n",
      "\n",
      "Please adapt your code to use either `displot` (a figure-level function with\n",
      "similar flexibility) or `histplot` (an axes-level function for histograms).\n",
      "\n",
      "For a guide to updating your code to use the new functions, please see\n",
      "https://gist.github.com/mwaskom/de44147ed2974457ad6372750bbe5751\n",
      "\n",
      "  sns.distplot(d1)\n"
     ]
    },
    {
     "data": {
      "text/plain": [
       "<Axes: ylabel='Density'>"
      ]
     },
     "execution_count": 58,
     "metadata": {},
     "output_type": "execute_result"
    },
    {
     "data": {
      "image/png": "[encoded data removed]",
      "text/plain": [
       "<Figure size 640x480 with 1 Axes>"
      ]
     },
     "metadata": {},
     "output_type": "display_data"
    }
   ],
   "source": [
    "sns.distplot(d1)"
   ]
  },
  {
   "cell_type": "code",
   "execution_count": 59,
   "id": "24a1c9d4",
   "metadata": {},
   "outputs": [],
   "source": [
    "result=stats.shapiro(d1)"
   ]
  },
  {
   "cell_type": "code",
   "execution_count": 60,
   "id": "b9596a4c",
   "metadata": {},
   "outputs": [
    {
     "data": {
      "text/plain": [
       "ShapiroResult(statistic=0.9987155795097351, pvalue=0.69902503490448)"
      ]
     },
     "execution_count": 60,
     "metadata": {},
     "output_type": "execute_result"
    }
   ],
   "source": [
    "result"
   ]
  },
  {
   "cell_type": "code",
   "execution_count": 61,
   "id": "bc064105",
   "metadata": {},
   "outputs": [
    {
     "name": "stdout",
     "output_type": "stream",
     "text": [
      "Accepts the null hypothesis\n"
     ]
    }
   ],
   "source": [
    "alpha=0.5\n",
    "pvalue=result[0]\n",
    "if alpha <= pvalue:\n",
    "    print('Accepts the null hypothesis')\n",
    "else:\n",
    "    print(' fail to Accepts the null hypothesis')"
   ]
  },
  {
   "cell_type": "code",
   "execution_count": 62,
   "id": "7200c62a",
   "metadata": {},
   "outputs": [
    {
     "name": "stdout",
     "output_type": "stream",
     "text": [
      "ShapiroResult(statistic=0.9367085695266724, pvalue=1.2384895078480934e-21)\n",
      "Fail to Accepts the null hypothesis\n",
      "ShapiroResult(statistic=0.9742149114608765, pvalue=2.1307489193184148e-13)\n",
      "Fail to Accepts the null hypothesis\n",
      "ShapiroResult(statistic=0.9532217979431152, pvalue=1.273572249032449e-18)\n",
      "Fail to Accepts the null hypothesis\n",
      "ShapiroResult(statistic=0.5872914791107178, pvalue=1.401298464324817e-45)\n",
      "Fail to Accepts the null hypothesis\n",
      "ShapiroResult(statistic=0.4692739248275757, pvalue=0.0)\n",
      "Fail to Accepts the null hypothesis\n",
      "ShapiroResult(statistic=0.9023081660270691, pvalue=2.199897947133791e-26)\n",
      "Fail to Accepts the null hypothesis\n",
      "ShapiroResult(statistic=0.8632609248161316, pvalue=2.0735212534945596e-30)\n",
      "Fail to Accepts the null hypothesis\n",
      "ShapiroResult(statistic=0.9906984567642212, pvalue=1.2488301308621885e-06)\n",
      "Fail to Accepts the null hypothesis\n",
      "ShapiroResult(statistic=0.9921150207519531, pvalue=8.658012120577041e-06)\n",
      "Fail to Accepts the null hypothesis\n",
      "ShapiroResult(statistic=0.8240775465965271, pvalue=1.2649795011271073e-33)\n",
      "Fail to Accepts the null hypothesis\n",
      "ShapiroResult(statistic=0.9289467334747314, pvalue=7.515898149130881e-23)\n",
      "Fail to Accepts the null hypothesis\n",
      "ShapiroResult(statistic=0.8547005653381348, pvalue=3.61023655476521e-31)\n",
      "Fail to Accepts the null hypothesis\n",
      "ShapiroResult(statistic=0.9531791806221008, pvalue=1.2482969182352787e-18)\n",
      "Fail to Accepts the null hypothesis\n"
     ]
    }
   ],
   "source": [
    "alpha=0.5\n",
    "for i in df.columns:\n",
    "    res=stats.shapiro(df[i])\n",
    "    pvalue=res[1]\n",
    "    print(res)\n",
    "    if alpha <= pvalue:\n",
    "        print('Accepts the null hypothesis')\n",
    "    else:\n",
    "        print('Fail to Accepts the null hypothesis')\n",
    "\n"
   ]
  },
  {
   "cell_type": "code",
   "execution_count": 63,
   "id": "f0cbbb91",
   "metadata": {
    "scrolled": true
   },
   "outputs": [
    {
     "data": {
      "text/plain": [
       "NormaltestResult(statistic=2.332914586892435, pvalue=0.31146843023643755)"
      ]
     },
     "execution_count": 63,
     "metadata": {},
     "output_type": "execute_result"
    }
   ],
   "source": [
    "from scipy import stats\n",
    "stats.normaltest(d1)"
   ]
  },
  {
   "cell_type": "code",
   "execution_count": 64,
   "id": "a6467070",
   "metadata": {},
   "outputs": [],
   "source": [
    "from statsmodels.stats.weightstats import ztest"
   ]
  },
  {
   "cell_type": "code",
   "execution_count": 65,
   "id": "dc420c95",
   "metadata": {},
   "outputs": [],
   "source": [
    "sample_mean=110\n",
    "population_mean=100\n",
    "pop_std=15\n",
    "alpha=0.05\n",
    "ci=0.95\n"
   ]
  },
  {
   "cell_type": "code",
   "execution_count": 66,
   "id": "907bdb4a",
   "metadata": {},
   "outputs": [
    {
     "name": "stdout",
     "output_type": "stream",
     "text": [
      "Note: you may need to restart the kernel to use updated packages.Requirement already satisfied: statsmodels in c:\\users\\ranga pavan\\appdata\\local\\programs\\python\\python311\\lib\\site-packages (0.14.0)\n",
      "Requirement already satisfied: numpy>=1.18 in c:\\users\\ranga pavan\\appdata\\local\\programs\\python\\python311\\lib\\site-packages (from statsmodels) (1.25.0)\n",
      "Requirement already satisfied: scipy!=1.9.2,>=1.4 in c:\\users\\ranga pavan\\appdata\\local\\programs\\python\\python311\\lib\\site-packages (from statsmodels) (1.11.1)\n",
      "Requirement already satisfied: pandas>=1.0 in c:\\users\\ranga pavan\\appdata\\local\\programs\\python\\python311\\lib\\site-packages (from statsmodels) (2.0.3)\n",
      "Requirement already satisfied: patsy>=0.5.2 in c:\\users\\ranga pavan\\appdata\\local\\programs\\python\\python311\\lib\\site-packages (from statsmodels) (0.5.3)\n",
      "Requirement already satisfied: packaging>=21.3 in c:\\users\\ranga pavan\\appdata\\local\\programs\\python\\python311\\lib\\site-packages (from statsmodels) (23.1)\n",
      "Requirement already satisfied: python-dateutil>=2.8.2 in c:\\users\\ranga pavan\\appdata\\local\\programs\\python\\python311\\lib\\site-packages (from pandas>=1.0->statsmodels) (2.8.2)\n",
      "Requirement already satisfied: pytz>=2020.1 in c:\\users\\ranga pavan\\appdata\\local\\programs\\python\\python311\\lib\\site-packages (from pandas>=1.0->statsmodels) (2023.3)\n",
      "Requirement already satisfied: tzdata>=2022.1 in c:\\users\\ranga pavan\\appdata\\local\\programs\\python\\python311\\lib\\site-packages (from pandas>=1.0->statsmodels) (2023.3)\n",
      "Requirement already satisfied: six in c:\\users\\ranga pavan\\appdata\\local\\programs\\python\\python311\\lib\\site-packages (from patsy>=0.5.2->statsmodels) (1.16.0)\n",
      "\n"
     ]
    },
    {
     "name": "stderr",
     "output_type": "stream",
     "text": [
      "\n",
      "[notice] A new release of pip is available: 23.1.2 -> 23.2.1\n",
      "[notice] To update, run: python.exe -m pip install --upgrade pip\n"
     ]
    }
   ],
   "source": [
    "pip install statsmodels"
   ]
  },
  {
   "cell_type": "code",
   "execution_count": 67,
   "id": "e31328d7",
   "metadata": {},
   "outputs": [],
   "source": [
    "from statsmodels.stats.weightstats import ztest"
   ]
  },
  {
   "cell_type": "code",
   "execution_count": 68,
   "id": "5c6e7aba",
   "metadata": {},
   "outputs": [
    {
     "data": {
      "text/plain": [
       "Index(['fixed acidity', 'volatile acidity', 'citric acid', 'residual sugar',\n",
       "       'chlorides', 'free sulfur dioxide', 'total sulfur dioxide', 'density',\n",
       "       'pH', 'sulphates', 'alcohol', 'quality', 'Id'],\n",
       "      dtype='object')"
      ]
     },
     "execution_count": 68,
     "metadata": {},
     "output_type": "execute_result"
    }
   ],
   "source": [
    "df.columns"
   ]
  },
  {
   "cell_type": "code",
   "execution_count": 69,
   "id": "d73b7a09",
   "metadata": {},
   "outputs": [],
   "source": [
    "sample_mean=110\n",
    "population_mean=100\n",
    "pop_std=15\n",
    "alpha=0.05\n",
    "ci=0.95\n"
   ]
  },
  {
   "cell_type": "code",
   "execution_count": 70,
   "id": "0b14644b",
   "metadata": {},
   "outputs": [],
   "source": [
    "d2=randn(100)"
   ]
  },
  {
   "cell_type": "code",
   "execution_count": 71,
   "id": "903ee961",
   "metadata": {
    "scrolled": true
   },
   "outputs": [
    {
     "data": {
      "text/plain": [
       "array([-0.19966492, -0.65068216, -1.31053409, -2.27830659,  0.72504251,\n",
       "       -0.50738516,  0.88294621,  0.24790457, -0.11773152,  0.33182605,\n",
       "        0.70398681, -0.2221093 ,  0.15368812, -1.54343483,  0.69856698,\n",
       "        1.50433176, -1.09689695, -0.17583586,  0.48942429, -1.94391145,\n",
       "       -0.62973266,  0.10793049,  1.22246816, -0.2459626 ,  0.09520671,\n",
       "        0.10758816, -0.2883643 , -0.20410967, -0.52365261,  0.1068494 ,\n",
       "       -0.03883866,  0.14533176,  2.25047136,  0.37954037, -0.54477166,\n",
       "        1.21321195, -0.16351928, -0.03064195, -0.73848085,  0.30254714,\n",
       "        0.18681938, -1.0423775 , -0.62207443,  0.44437915,  1.21804767,\n",
       "        0.05561851, -0.28975699,  0.69890686, -1.81149105,  0.05724702,\n",
       "        0.31722077,  0.98959196, -1.66651734,  0.12700537,  1.03569395,\n",
       "        0.22735436, -0.40886347, -0.00811869, -2.66436605, -0.4008592 ,\n",
       "       -0.6413798 , -0.100766  ,  1.68896593, -0.72445365,  0.72253082,\n",
       "       -1.34972336,  0.85548644,  1.51615753, -0.81608726, -0.65588731,\n",
       "       -1.30490085, -1.98513311, -0.0094361 , -0.34988343, -0.03963542,\n",
       "       -0.81669586,  0.39623277,  1.61140578,  0.05285389, -0.60183051,\n",
       "        1.21255367, -0.9699695 , -1.45967353, -1.49415523, -0.00491968,\n",
       "       -0.34087132, -1.03707413,  0.51586156, -1.14399351, -1.5641716 ,\n",
       "        0.04604786, -1.11977819,  0.10759122, -0.71910177, -0.33579984,\n",
       "       -0.79212525,  0.09644902, -1.42765202,  0.40904822,  1.96699632])"
      ]
     },
     "execution_count": 71,
     "metadata": {},
     "output_type": "execute_result"
    }
   ],
   "source": [
    "d2"
   ]
  },
  {
   "cell_type": "markdown",
   "id": "3c69beac",
   "metadata": {},
   "source": [
    "## T- test"
   ]
  },
  {
   "cell_type": "markdown",
   "id": "dfbb92f9",
   "metadata": {},
   "source": [
    "1. one - sample t-test (with respect to one indepedent sample)\n",
    "2. two - sample t-test (with respect to two independent samples)\n",
    "3. paired t-test (two sample from the sample popuation on different time interval)"
   ]
  },
  {
   "cell_type": "code",
   "execution_count": 125,
   "id": "fffe9eee",
   "metadata": {},
   "outputs": [],
   "source": [
    "import numpy as np\n",
    "population5=np.random.randint(10,50,50)"
   ]
  },
  {
   "cell_type": "code",
   "execution_count": 126,
   "id": "1e338a36",
   "metadata": {},
   "outputs": [
    {
     "data": {
      "text/plain": [
       "array([15, 16, 28, 20, 49, 21, 43, 35, 35, 42, 49, 36, 25, 25, 15, 35, 48,\n",
       "       14, 14, 41, 36, 23, 26, 10, 11, 12, 32, 21, 16, 25, 17, 41, 27, 14,\n",
       "       13, 25, 16, 42, 40, 45, 10, 36, 32, 48, 24, 33, 44, 14, 19, 36])"
      ]
     },
     "execution_count": 126,
     "metadata": {},
     "output_type": "execute_result"
    }
   ],
   "source": [
    "population5"
   ]
  },
  {
   "cell_type": "code",
   "execution_count": 128,
   "id": "c24f6cb5",
   "metadata": {},
   "outputs": [
    {
     "data": {
      "text/plain": [
       "array([16, 27, 32, 35, 35, 32, 17, 32, 36, 36, 10, 25, 25, 15, 26, 15, 48,\n",
       "       16, 49, 11])"
      ]
     },
     "execution_count": 128,
     "metadata": {},
     "output_type": "execute_result"
    }
   ],
   "source": [
    "sample1=np.random.choice(population5,20)\n",
    "sample1"
   ]
  },
  {
   "cell_type": "code",
   "execution_count": 129,
   "id": "06e2ca38",
   "metadata": {},
   "outputs": [
    {
     "data": {
      "text/plain": [
       "array([14, 41, 17, 32, 24, 48, 26, 42, 49, 15, 43, 36, 36, 49, 44, 35, 14,\n",
       "       28, 15, 26])"
      ]
     },
     "execution_count": 129,
     "metadata": {},
     "output_type": "execute_result"
    }
   ],
   "source": [
    "sample2=np.random.choice(population5,20)\n",
    "sample2"
   ]
  },
  {
   "cell_type": "code",
   "execution_count": 130,
   "id": "a468209e",
   "metadata": {},
   "outputs": [
    {
     "data": {
      "text/plain": [
       "26.9"
      ]
     },
     "execution_count": 130,
     "metadata": {},
     "output_type": "execute_result"
    }
   ],
   "source": [
    "sample1.mean()"
   ]
  },
  {
   "cell_type": "code",
   "execution_count": 131,
   "id": "e55d81f5",
   "metadata": {},
   "outputs": [
    {
     "data": {
      "text/plain": [
       "31.7"
      ]
     },
     "execution_count": 131,
     "metadata": {},
     "output_type": "execute_result"
    }
   ],
   "source": [
    "sample2.mean()"
   ]
  },
  {
   "cell_type": "code",
   "execution_count": 132,
   "id": "7e9708d2",
   "metadata": {},
   "outputs": [
    {
     "data": {
      "text/plain": [
       "26.9"
      ]
     },
     "execution_count": 132,
     "metadata": {},
     "output_type": "execute_result"
    }
   ],
   "source": [
    "np.mean(sample1)"
   ]
  },
  {
   "cell_type": "code",
   "execution_count": 133,
   "id": "2503e82e",
   "metadata": {},
   "outputs": [
    {
     "data": {
      "text/plain": [
       "31.7"
      ]
     },
     "execution_count": 133,
     "metadata": {},
     "output_type": "execute_result"
    }
   ],
   "source": [
    "np.mean(sample2)"
   ]
  },
  {
   "cell_type": "code",
   "execution_count": 134,
   "id": "3334c093",
   "metadata": {},
   "outputs": [
    {
     "data": {
      "text/plain": [
       "27.88"
      ]
     },
     "execution_count": 134,
     "metadata": {},
     "output_type": "execute_result"
    }
   ],
   "source": [
    "np.mean(population5)"
   ]
  },
  {
   "cell_type": "code",
   "execution_count": 139,
   "id": "d5e96a55",
   "metadata": {},
   "outputs": [
    {
     "data": {
      "text/plain": [
       "TtestResult(statistic=0.744668711586139, pvalue=0.46558375886608305, df=19)"
      ]
     },
     "execution_count": 139,
     "metadata": {},
     "output_type": "execute_result"
    }
   ],
   "source": [
    "## one - sample t-test (with respect to one indepedent sample)\n",
    "import scipy\n"
   ]
  },
  {
   "cell_type": "code",
   "execution_count": 150,
   "id": "e2bb95fe",
   "metadata": {},
   "outputs": [
    {
     "data": {
      "text/plain": [
       "TtestResult(statistic=0.0, pvalue=1.0, df=19)"
      ]
     },
     "execution_count": 150,
     "metadata": {},
     "output_type": "execute_result"
    }
   ],
   "source": [
    "scipy.stats.ttest_1samp(sample1,26.9)"
   ]
  },
  {
   "cell_type": "code",
   "execution_count": 140,
   "id": "5fe7392d",
   "metadata": {},
   "outputs": [
    {
     "data": {
      "text/plain": [
       "TtestResult(statistic=-1.2737877418422607, pvalue=0.21047483933243338, df=38.0)"
      ]
     },
     "execution_count": 140,
     "metadata": {},
     "output_type": "execute_result"
    }
   ],
   "source": [
    "## two - sample t-test (with respect to two independent samples)\n",
    "scipy.stats.ttest_ind(sample1,sample2)"
   ]
  },
  {
   "cell_type": "code",
   "execution_count": 144,
   "id": "87e92550",
   "metadata": {},
   "outputs": [
    {
     "data": {
      "text/plain": [
       "TtestResult(statistic=-1.1157234266232465, pvalue=0.27845349264547414, df=19)"
      ]
     },
     "execution_count": 144,
     "metadata": {},
     "output_type": "execute_result"
    }
   ],
   "source": [
    "## paired t-test (two sample from the sample popuation on different time interval)\n",
    "scipy.stats.ttest_rel(sample1,sample2)"
   ]
  },
  {
   "cell_type": "markdown",
   "id": "24ef7e9d",
   "metadata": {},
   "source": [
    "## chi-squere test"
   ]
  },
  {
   "cell_type": "code",
   "execution_count": 151,
   "id": "ea208c55",
   "metadata": {},
   "outputs": [
    {
     "data": {
      "text/html": [
       "<div>\n",
       "<style scoped>\n",
       "    .dataframe tbody tr th:only-of-type {\n",
       "        vertical-align: middle;\n",
       "    }\n",
       "\n",
       "    .dataframe tbody tr th {\n",
       "        vertical-align: top;\n",
       "    }\n",
       "\n",
       "    .dataframe thead th {\n",
       "        text-align: right;\n",
       "    }\n",
       "</style>\n",
       "<table border=\"1\" class=\"dataframe\">\n",
       "  <thead>\n",
       "    <tr style=\"text-align: right;\">\n",
       "      <th></th>\n",
       "      <th>total_bill</th>\n",
       "      <th>tip</th>\n",
       "      <th>sex</th>\n",
       "      <th>smoker</th>\n",
       "      <th>day</th>\n",
       "      <th>time</th>\n",
       "      <th>size</th>\n",
       "    </tr>\n",
       "  </thead>\n",
       "  <tbody>\n",
       "    <tr>\n",
       "      <th>0</th>\n",
       "      <td>16.99</td>\n",
       "      <td>1.01</td>\n",
       "      <td>Female</td>\n",
       "      <td>No</td>\n",
       "      <td>Sun</td>\n",
       "      <td>Dinner</td>\n",
       "      <td>2</td>\n",
       "    </tr>\n",
       "    <tr>\n",
       "      <th>1</th>\n",
       "      <td>10.34</td>\n",
       "      <td>1.66</td>\n",
       "      <td>Male</td>\n",
       "      <td>No</td>\n",
       "      <td>Sun</td>\n",
       "      <td>Dinner</td>\n",
       "      <td>3</td>\n",
       "    </tr>\n",
       "    <tr>\n",
       "      <th>2</th>\n",
       "      <td>21.01</td>\n",
       "      <td>3.50</td>\n",
       "      <td>Male</td>\n",
       "      <td>No</td>\n",
       "      <td>Sun</td>\n",
       "      <td>Dinner</td>\n",
       "      <td>3</td>\n",
       "    </tr>\n",
       "    <tr>\n",
       "      <th>3</th>\n",
       "      <td>23.68</td>\n",
       "      <td>3.31</td>\n",
       "      <td>Male</td>\n",
       "      <td>No</td>\n",
       "      <td>Sun</td>\n",
       "      <td>Dinner</td>\n",
       "      <td>2</td>\n",
       "    </tr>\n",
       "    <tr>\n",
       "      <th>4</th>\n",
       "      <td>24.59</td>\n",
       "      <td>3.61</td>\n",
       "      <td>Female</td>\n",
       "      <td>No</td>\n",
       "      <td>Sun</td>\n",
       "      <td>Dinner</td>\n",
       "      <td>4</td>\n",
       "    </tr>\n",
       "    <tr>\n",
       "      <th>...</th>\n",
       "      <td>...</td>\n",
       "      <td>...</td>\n",
       "      <td>...</td>\n",
       "      <td>...</td>\n",
       "      <td>...</td>\n",
       "      <td>...</td>\n",
       "      <td>...</td>\n",
       "    </tr>\n",
       "    <tr>\n",
       "      <th>239</th>\n",
       "      <td>29.03</td>\n",
       "      <td>5.92</td>\n",
       "      <td>Male</td>\n",
       "      <td>No</td>\n",
       "      <td>Sat</td>\n",
       "      <td>Dinner</td>\n",
       "      <td>3</td>\n",
       "    </tr>\n",
       "    <tr>\n",
       "      <th>240</th>\n",
       "      <td>27.18</td>\n",
       "      <td>2.00</td>\n",
       "      <td>Female</td>\n",
       "      <td>Yes</td>\n",
       "      <td>Sat</td>\n",
       "      <td>Dinner</td>\n",
       "      <td>2</td>\n",
       "    </tr>\n",
       "    <tr>\n",
       "      <th>241</th>\n",
       "      <td>22.67</td>\n",
       "      <td>2.00</td>\n",
       "      <td>Male</td>\n",
       "      <td>Yes</td>\n",
       "      <td>Sat</td>\n",
       "      <td>Dinner</td>\n",
       "      <td>2</td>\n",
       "    </tr>\n",
       "    <tr>\n",
       "      <th>242</th>\n",
       "      <td>17.82</td>\n",
       "      <td>1.75</td>\n",
       "      <td>Male</td>\n",
       "      <td>No</td>\n",
       "      <td>Sat</td>\n",
       "      <td>Dinner</td>\n",
       "      <td>2</td>\n",
       "    </tr>\n",
       "    <tr>\n",
       "      <th>243</th>\n",
       "      <td>18.78</td>\n",
       "      <td>3.00</td>\n",
       "      <td>Female</td>\n",
       "      <td>No</td>\n",
       "      <td>Thur</td>\n",
       "      <td>Dinner</td>\n",
       "      <td>2</td>\n",
       "    </tr>\n",
       "  </tbody>\n",
       "</table>\n",
       "<p>244 rows × 7 columns</p>\n",
       "</div>"
      ],
      "text/plain": [
       "     total_bill   tip     sex smoker   day    time  size\n",
       "0         16.99  1.01  Female     No   Sun  Dinner     2\n",
       "1         10.34  1.66    Male     No   Sun  Dinner     3\n",
       "2         21.01  3.50    Male     No   Sun  Dinner     3\n",
       "3         23.68  3.31    Male     No   Sun  Dinner     2\n",
       "4         24.59  3.61  Female     No   Sun  Dinner     4\n",
       "..          ...   ...     ...    ...   ...     ...   ...\n",
       "239       29.03  5.92    Male     No   Sat  Dinner     3\n",
       "240       27.18  2.00  Female    Yes   Sat  Dinner     2\n",
       "241       22.67  2.00    Male    Yes   Sat  Dinner     2\n",
       "242       17.82  1.75    Male     No   Sat  Dinner     2\n",
       "243       18.78  3.00  Female     No  Thur  Dinner     2\n",
       "\n",
       "[244 rows x 7 columns]"
      ]
     },
     "execution_count": 151,
     "metadata": {},
     "output_type": "execute_result"
    }
   ],
   "source": [
    "import seaborn as sns \n",
    "sns.load_dataset('tips')"
   ]
  },
  {
   "cell_type": "code",
   "execution_count": 152,
   "id": "d990ecb5",
   "metadata": {},
   "outputs": [
    {
     "data": {
      "text/html": [
       "<div>\n",
       "<style scoped>\n",
       "    .dataframe tbody tr th:only-of-type {\n",
       "        vertical-align: middle;\n",
       "    }\n",
       "\n",
       "    .dataframe tbody tr th {\n",
       "        vertical-align: top;\n",
       "    }\n",
       "\n",
       "    .dataframe thead th {\n",
       "        text-align: right;\n",
       "    }\n",
       "</style>\n",
       "<table border=\"1\" class=\"dataframe\">\n",
       "  <thead>\n",
       "    <tr style=\"text-align: right;\">\n",
       "      <th></th>\n",
       "      <th>total_bill</th>\n",
       "      <th>tip</th>\n",
       "      <th>sex</th>\n",
       "      <th>smoker</th>\n",
       "      <th>day</th>\n",
       "      <th>time</th>\n",
       "      <th>size</th>\n",
       "    </tr>\n",
       "  </thead>\n",
       "  <tbody>\n",
       "    <tr>\n",
       "      <th>0</th>\n",
       "      <td>16.99</td>\n",
       "      <td>1.01</td>\n",
       "      <td>Female</td>\n",
       "      <td>No</td>\n",
       "      <td>Sun</td>\n",
       "      <td>Dinner</td>\n",
       "      <td>2</td>\n",
       "    </tr>\n",
       "    <tr>\n",
       "      <th>1</th>\n",
       "      <td>10.34</td>\n",
       "      <td>1.66</td>\n",
       "      <td>Male</td>\n",
       "      <td>No</td>\n",
       "      <td>Sun</td>\n",
       "      <td>Dinner</td>\n",
       "      <td>3</td>\n",
       "    </tr>\n",
       "    <tr>\n",
       "      <th>2</th>\n",
       "      <td>21.01</td>\n",
       "      <td>3.50</td>\n",
       "      <td>Male</td>\n",
       "      <td>No</td>\n",
       "      <td>Sun</td>\n",
       "      <td>Dinner</td>\n",
       "      <td>3</td>\n",
       "    </tr>\n",
       "    <tr>\n",
       "      <th>3</th>\n",
       "      <td>23.68</td>\n",
       "      <td>3.31</td>\n",
       "      <td>Male</td>\n",
       "      <td>No</td>\n",
       "      <td>Sun</td>\n",
       "      <td>Dinner</td>\n",
       "      <td>2</td>\n",
       "    </tr>\n",
       "    <tr>\n",
       "      <th>4</th>\n",
       "      <td>24.59</td>\n",
       "      <td>3.61</td>\n",
       "      <td>Female</td>\n",
       "      <td>No</td>\n",
       "      <td>Sun</td>\n",
       "      <td>Dinner</td>\n",
       "      <td>4</td>\n",
       "    </tr>\n",
       "    <tr>\n",
       "      <th>...</th>\n",
       "      <td>...</td>\n",
       "      <td>...</td>\n",
       "      <td>...</td>\n",
       "      <td>...</td>\n",
       "      <td>...</td>\n",
       "      <td>...</td>\n",
       "      <td>...</td>\n",
       "    </tr>\n",
       "    <tr>\n",
       "      <th>239</th>\n",
       "      <td>29.03</td>\n",
       "      <td>5.92</td>\n",
       "      <td>Male</td>\n",
       "      <td>No</td>\n",
       "      <td>Sat</td>\n",
       "      <td>Dinner</td>\n",
       "      <td>3</td>\n",
       "    </tr>\n",
       "    <tr>\n",
       "      <th>240</th>\n",
       "      <td>27.18</td>\n",
       "      <td>2.00</td>\n",
       "      <td>Female</td>\n",
       "      <td>Yes</td>\n",
       "      <td>Sat</td>\n",
       "      <td>Dinner</td>\n",
       "      <td>2</td>\n",
       "    </tr>\n",
       "    <tr>\n",
       "      <th>241</th>\n",
       "      <td>22.67</td>\n",
       "      <td>2.00</td>\n",
       "      <td>Male</td>\n",
       "      <td>Yes</td>\n",
       "      <td>Sat</td>\n",
       "      <td>Dinner</td>\n",
       "      <td>2</td>\n",
       "    </tr>\n",
       "    <tr>\n",
       "      <th>242</th>\n",
       "      <td>17.82</td>\n",
       "      <td>1.75</td>\n",
       "      <td>Male</td>\n",
       "      <td>No</td>\n",
       "      <td>Sat</td>\n",
       "      <td>Dinner</td>\n",
       "      <td>2</td>\n",
       "    </tr>\n",
       "    <tr>\n",
       "      <th>243</th>\n",
       "      <td>18.78</td>\n",
       "      <td>3.00</td>\n",
       "      <td>Female</td>\n",
       "      <td>No</td>\n",
       "      <td>Thur</td>\n",
       "      <td>Dinner</td>\n",
       "      <td>2</td>\n",
       "    </tr>\n",
       "  </tbody>\n",
       "</table>\n",
       "<p>244 rows × 7 columns</p>\n",
       "</div>"
      ],
      "text/plain": [
       "     total_bill   tip     sex smoker   day    time  size\n",
       "0         16.99  1.01  Female     No   Sun  Dinner     2\n",
       "1         10.34  1.66    Male     No   Sun  Dinner     3\n",
       "2         21.01  3.50    Male     No   Sun  Dinner     3\n",
       "3         23.68  3.31    Male     No   Sun  Dinner     2\n",
       "4         24.59  3.61  Female     No   Sun  Dinner     4\n",
       "..          ...   ...     ...    ...   ...     ...   ...\n",
       "239       29.03  5.92    Male     No   Sat  Dinner     3\n",
       "240       27.18  2.00  Female    Yes   Sat  Dinner     2\n",
       "241       22.67  2.00    Male    Yes   Sat  Dinner     2\n",
       "242       17.82  1.75    Male     No   Sat  Dinner     2\n",
       "243       18.78  3.00  Female     No  Thur  Dinner     2\n",
       "\n",
       "[244 rows x 7 columns]"
      ]
     },
     "execution_count": 152,
     "metadata": {},
     "output_type": "execute_result"
    }
   ],
   "source": [
    "import pandas as pd\n",
    "pd.read_csv('tips.csv')"
   ]
  },
  {
   "cell_type": "code",
   "execution_count": 155,
   "id": "8ad3bb85",
   "metadata": {},
   "outputs": [],
   "source": [
    "import seaborn as sns \n",
    "dataset=sns.load_dataset('tips')"
   ]
  },
  {
   "cell_type": "code",
   "execution_count": 156,
   "id": "39fa858c",
   "metadata": {},
   "outputs": [
    {
     "data": {
      "text/html": [
       "<div>\n",
       "<style scoped>\n",
       "    .dataframe tbody tr th:only-of-type {\n",
       "        vertical-align: middle;\n",
       "    }\n",
       "\n",
       "    .dataframe tbody tr th {\n",
       "        vertical-align: top;\n",
       "    }\n",
       "\n",
       "    .dataframe thead th {\n",
       "        text-align: right;\n",
       "    }\n",
       "</style>\n",
       "<table border=\"1\" class=\"dataframe\">\n",
       "  <thead>\n",
       "    <tr style=\"text-align: right;\">\n",
       "      <th></th>\n",
       "      <th>total_bill</th>\n",
       "      <th>tip</th>\n",
       "      <th>sex</th>\n",
       "      <th>smoker</th>\n",
       "      <th>day</th>\n",
       "      <th>time</th>\n",
       "      <th>size</th>\n",
       "    </tr>\n",
       "  </thead>\n",
       "  <tbody>\n",
       "    <tr>\n",
       "      <th>0</th>\n",
       "      <td>16.99</td>\n",
       "      <td>1.01</td>\n",
       "      <td>Female</td>\n",
       "      <td>No</td>\n",
       "      <td>Sun</td>\n",
       "      <td>Dinner</td>\n",
       "      <td>2</td>\n",
       "    </tr>\n",
       "    <tr>\n",
       "      <th>1</th>\n",
       "      <td>10.34</td>\n",
       "      <td>1.66</td>\n",
       "      <td>Male</td>\n",
       "      <td>No</td>\n",
       "      <td>Sun</td>\n",
       "      <td>Dinner</td>\n",
       "      <td>3</td>\n",
       "    </tr>\n",
       "    <tr>\n",
       "      <th>2</th>\n",
       "      <td>21.01</td>\n",
       "      <td>3.50</td>\n",
       "      <td>Male</td>\n",
       "      <td>No</td>\n",
       "      <td>Sun</td>\n",
       "      <td>Dinner</td>\n",
       "      <td>3</td>\n",
       "    </tr>\n",
       "    <tr>\n",
       "      <th>3</th>\n",
       "      <td>23.68</td>\n",
       "      <td>3.31</td>\n",
       "      <td>Male</td>\n",
       "      <td>No</td>\n",
       "      <td>Sun</td>\n",
       "      <td>Dinner</td>\n",
       "      <td>2</td>\n",
       "    </tr>\n",
       "    <tr>\n",
       "      <th>4</th>\n",
       "      <td>24.59</td>\n",
       "      <td>3.61</td>\n",
       "      <td>Female</td>\n",
       "      <td>No</td>\n",
       "      <td>Sun</td>\n",
       "      <td>Dinner</td>\n",
       "      <td>4</td>\n",
       "    </tr>\n",
       "    <tr>\n",
       "      <th>...</th>\n",
       "      <td>...</td>\n",
       "      <td>...</td>\n",
       "      <td>...</td>\n",
       "      <td>...</td>\n",
       "      <td>...</td>\n",
       "      <td>...</td>\n",
       "      <td>...</td>\n",
       "    </tr>\n",
       "    <tr>\n",
       "      <th>239</th>\n",
       "      <td>29.03</td>\n",
       "      <td>5.92</td>\n",
       "      <td>Male</td>\n",
       "      <td>No</td>\n",
       "      <td>Sat</td>\n",
       "      <td>Dinner</td>\n",
       "      <td>3</td>\n",
       "    </tr>\n",
       "    <tr>\n",
       "      <th>240</th>\n",
       "      <td>27.18</td>\n",
       "      <td>2.00</td>\n",
       "      <td>Female</td>\n",
       "      <td>Yes</td>\n",
       "      <td>Sat</td>\n",
       "      <td>Dinner</td>\n",
       "      <td>2</td>\n",
       "    </tr>\n",
       "    <tr>\n",
       "      <th>241</th>\n",
       "      <td>22.67</td>\n",
       "      <td>2.00</td>\n",
       "      <td>Male</td>\n",
       "      <td>Yes</td>\n",
       "      <td>Sat</td>\n",
       "      <td>Dinner</td>\n",
       "      <td>2</td>\n",
       "    </tr>\n",
       "    <tr>\n",
       "      <th>242</th>\n",
       "      <td>17.82</td>\n",
       "      <td>1.75</td>\n",
       "      <td>Male</td>\n",
       "      <td>No</td>\n",
       "      <td>Sat</td>\n",
       "      <td>Dinner</td>\n",
       "      <td>2</td>\n",
       "    </tr>\n",
       "    <tr>\n",
       "      <th>243</th>\n",
       "      <td>18.78</td>\n",
       "      <td>3.00</td>\n",
       "      <td>Female</td>\n",
       "      <td>No</td>\n",
       "      <td>Thur</td>\n",
       "      <td>Dinner</td>\n",
       "      <td>2</td>\n",
       "    </tr>\n",
       "  </tbody>\n",
       "</table>\n",
       "<p>244 rows × 7 columns</p>\n",
       "</div>"
      ],
      "text/plain": [
       "     total_bill   tip     sex smoker   day    time  size\n",
       "0         16.99  1.01  Female     No   Sun  Dinner     2\n",
       "1         10.34  1.66    Male     No   Sun  Dinner     3\n",
       "2         21.01  3.50    Male     No   Sun  Dinner     3\n",
       "3         23.68  3.31    Male     No   Sun  Dinner     2\n",
       "4         24.59  3.61  Female     No   Sun  Dinner     4\n",
       "..          ...   ...     ...    ...   ...     ...   ...\n",
       "239       29.03  5.92    Male     No   Sat  Dinner     3\n",
       "240       27.18  2.00  Female    Yes   Sat  Dinner     2\n",
       "241       22.67  2.00    Male    Yes   Sat  Dinner     2\n",
       "242       17.82  1.75    Male     No   Sat  Dinner     2\n",
       "243       18.78  3.00  Female     No  Thur  Dinner     2\n",
       "\n",
       "[244 rows x 7 columns]"
      ]
     },
     "execution_count": 156,
     "metadata": {},
     "output_type": "execute_result"
    }
   ],
   "source": [
    "dataset"
   ]
  },
  {
   "cell_type": "code",
   "execution_count": 157,
   "id": "bd2186e2",
   "metadata": {},
   "outputs": [
    {
     "name": "stdout",
     "output_type": "stream",
     "text": [
      "<class 'pandas.core.frame.DataFrame'>\n",
      "RangeIndex: 244 entries, 0 to 243\n",
      "Data columns (total 7 columns):\n",
      " #   Column      Non-Null Count  Dtype   \n",
      "---  ------      --------------  -----   \n",
      " 0   total_bill  244 non-null    float64 \n",
      " 1   tip         244 non-null    float64 \n",
      " 2   sex         244 non-null    category\n",
      " 3   smoker      244 non-null    category\n",
      " 4   day         244 non-null    category\n",
      " 5   time        244 non-null    category\n",
      " 6   size        244 non-null    int64   \n",
      "dtypes: category(4), float64(2), int64(1)\n",
      "memory usage: 7.4 KB\n"
     ]
    }
   ],
   "source": [
    "dataset.info()"
   ]
  },
  {
   "cell_type": "code",
   "execution_count": null,
   "id": "3be7fe97",
   "metadata": {},
   "outputs": [],
   "source": []
  },
  {
   "cell_type": "code",
   "execution_count": null,
   "id": "2e91564a",
   "metadata": {},
   "outputs": [],
   "source": []
  },
  {
   "cell_type": "code",
   "execution_count": 158,
   "id": "9ac6f39d",
   "metadata": {},
   "outputs": [
    {
     "data": {
      "text/html": [
       "<div>\n",
       "<style scoped>\n",
       "    .dataframe tbody tr th:only-of-type {\n",
       "        vertical-align: middle;\n",
       "    }\n",
       "\n",
       "    .dataframe tbody tr th {\n",
       "        vertical-align: top;\n",
       "    }\n",
       "\n",
       "    .dataframe thead th {\n",
       "        text-align: right;\n",
       "    }\n",
       "</style>\n",
       "<table border=\"1\" class=\"dataframe\">\n",
       "  <thead>\n",
       "    <tr style=\"text-align: right;\">\n",
       "      <th></th>\n",
       "      <th>sex</th>\n",
       "      <th>smoker</th>\n",
       "    </tr>\n",
       "  </thead>\n",
       "  <tbody>\n",
       "    <tr>\n",
       "      <th>0</th>\n",
       "      <td>Female</td>\n",
       "      <td>No</td>\n",
       "    </tr>\n",
       "    <tr>\n",
       "      <th>1</th>\n",
       "      <td>Male</td>\n",
       "      <td>No</td>\n",
       "    </tr>\n",
       "    <tr>\n",
       "      <th>2</th>\n",
       "      <td>Male</td>\n",
       "      <td>No</td>\n",
       "    </tr>\n",
       "    <tr>\n",
       "      <th>3</th>\n",
       "      <td>Male</td>\n",
       "      <td>No</td>\n",
       "    </tr>\n",
       "    <tr>\n",
       "      <th>4</th>\n",
       "      <td>Female</td>\n",
       "      <td>No</td>\n",
       "    </tr>\n",
       "    <tr>\n",
       "      <th>...</th>\n",
       "      <td>...</td>\n",
       "      <td>...</td>\n",
       "    </tr>\n",
       "    <tr>\n",
       "      <th>239</th>\n",
       "      <td>Male</td>\n",
       "      <td>No</td>\n",
       "    </tr>\n",
       "    <tr>\n",
       "      <th>240</th>\n",
       "      <td>Female</td>\n",
       "      <td>Yes</td>\n",
       "    </tr>\n",
       "    <tr>\n",
       "      <th>241</th>\n",
       "      <td>Male</td>\n",
       "      <td>Yes</td>\n",
       "    </tr>\n",
       "    <tr>\n",
       "      <th>242</th>\n",
       "      <td>Male</td>\n",
       "      <td>No</td>\n",
       "    </tr>\n",
       "    <tr>\n",
       "      <th>243</th>\n",
       "      <td>Female</td>\n",
       "      <td>No</td>\n",
       "    </tr>\n",
       "  </tbody>\n",
       "</table>\n",
       "<p>244 rows × 2 columns</p>\n",
       "</div>"
      ],
      "text/plain": [
       "        sex smoker\n",
       "0    Female     No\n",
       "1      Male     No\n",
       "2      Male     No\n",
       "3      Male     No\n",
       "4    Female     No\n",
       "..      ...    ...\n",
       "239    Male     No\n",
       "240  Female    Yes\n",
       "241    Male    Yes\n",
       "242    Male     No\n",
       "243  Female     No\n",
       "\n",
       "[244 rows x 2 columns]"
      ]
     },
     "execution_count": 158,
     "metadata": {},
     "output_type": "execute_result"
    }
   ],
   "source": [
    "dataset[['sex','smoker']]"
   ]
  },
  {
   "cell_type": "code",
   "execution_count": 165,
   "id": "d252ad3b",
   "metadata": {},
   "outputs": [],
   "source": [
    "observed_data=pd.crosstab(dataset.sex,dataset.smoker)"
   ]
  },
  {
   "cell_type": "code",
   "execution_count": 169,
   "id": "1cb82385",
   "metadata": {},
   "outputs": [
    {
     "data": {
      "text/plain": [
       "array([[60, 97],\n",
       "       [33, 54]], dtype=int64)"
      ]
     },
     "execution_count": 169,
     "metadata": {},
     "output_type": "execute_result"
    }
   ],
   "source": [
    "observed_data.values"
   ]
  },
  {
   "cell_type": "code",
   "execution_count": 164,
   "id": "0f346ea3",
   "metadata": {},
   "outputs": [
    {
     "data": {
      "text/plain": [
       "<bound method Series.count of 0      Female\n",
       "1        Male\n",
       "2        Male\n",
       "3        Male\n",
       "4      Female\n",
       "        ...  \n",
       "239      Male\n",
       "240    Female\n",
       "241      Male\n",
       "242      Male\n",
       "243    Female\n",
       "Name: sex, Length: 244, dtype: category\n",
       "Categories (2, object): ['Male', 'Female']>"
      ]
     },
     "execution_count": 164,
     "metadata": {},
     "output_type": "execute_result"
    }
   ],
   "source": [
    "dataset.sex.count"
   ]
  },
  {
   "cell_type": "code",
   "execution_count": 172,
   "id": "e4f99048",
   "metadata": {},
   "outputs": [
    {
     "data": {
      "text/plain": [
       "Chi2ContingencyResult(statistic=0.0, pvalue=1.0, dof=1, expected_freq=array([[59.84016393, 97.15983607],\n",
       "       [33.15983607, 53.84016393]]))"
      ]
     },
     "execution_count": 172,
     "metadata": {},
     "output_type": "execute_result"
    }
   ],
   "source": [
    "from scipy import stats\n",
    "stats.chi2_contingency(observed_data)"
   ]
  },
  {
   "cell_type": "code",
   "execution_count": 174,
   "id": "7c402345",
   "metadata": {},
   "outputs": [],
   "source": [
    "stats_test,pvalue,dof,expected=stats.chi2_contingency(observed_data)"
   ]
  },
  {
   "cell_type": "code",
   "execution_count": 175,
   "id": "b14b3c65",
   "metadata": {},
   "outputs": [
    {
     "data": {
      "text/plain": [
       "0.0"
      ]
     },
     "execution_count": 175,
     "metadata": {},
     "output_type": "execute_result"
    }
   ],
   "source": [
    "stats_test"
   ]
  },
  {
   "cell_type": "code",
   "execution_count": 176,
   "id": "ee078351",
   "metadata": {},
   "outputs": [
    {
     "data": {
      "text/plain": [
       "1.0"
      ]
     },
     "execution_count": 176,
     "metadata": {},
     "output_type": "execute_result"
    }
   ],
   "source": [
    "pvalue"
   ]
  },
  {
   "cell_type": "code",
   "execution_count": 178,
   "id": "f8a2c385",
   "metadata": {},
   "outputs": [
    {
     "data": {
      "text/plain": [
       "array([[59.84016393, 97.15983607],\n",
       "       [33.15983607, 53.84016393]])"
      ]
     },
     "execution_count": 178,
     "metadata": {},
     "output_type": "execute_result"
    }
   ],
   "source": [
    "expected"
   ]
  },
  {
   "cell_type": "code",
   "execution_count": 179,
   "id": "c1c6dfd8",
   "metadata": {},
   "outputs": [],
   "source": [
    "no_of_rows=observed_data.iloc[:,0]"
   ]
  },
  {
   "cell_type": "code",
   "execution_count": 180,
   "id": "d5b9936b",
   "metadata": {},
   "outputs": [
    {
     "data": {
      "text/plain": [
       "sex\n",
       "Male      60\n",
       "Female    33\n",
       "Name: Yes, dtype: int64"
      ]
     },
     "execution_count": 180,
     "metadata": {},
     "output_type": "execute_result"
    }
   ],
   "source": [
    "no_of_rows"
   ]
  },
  {
   "cell_type": "code",
   "execution_count": 181,
   "id": "d860e110",
   "metadata": {},
   "outputs": [
    {
     "data": {
      "text/plain": [
       "2"
      ]
     },
     "execution_count": 181,
     "metadata": {},
     "output_type": "execute_result"
    }
   ],
   "source": [
    "len(no_of_rows)"
   ]
  },
  {
   "cell_type": "code",
   "execution_count": 182,
   "id": "90db2712",
   "metadata": {},
   "outputs": [],
   "source": [
    "no_of_columns=observed_data.iloc[0,:]"
   ]
  },
  {
   "cell_type": "code",
   "execution_count": 183,
   "id": "f9b68818",
   "metadata": {},
   "outputs": [
    {
     "data": {
      "text/plain": [
       "smoker\n",
       "Yes    60\n",
       "No     97\n",
       "Name: Male, dtype: int64"
      ]
     },
     "execution_count": 183,
     "metadata": {},
     "output_type": "execute_result"
    }
   ],
   "source": [
    "no_of_columns"
   ]
  },
  {
   "cell_type": "code",
   "execution_count": 184,
   "id": "83c4446d",
   "metadata": {},
   "outputs": [],
   "source": [
    "dof=(len(no_of_rows)-1) * (len(no_of_columns)-1)"
   ]
  },
  {
   "cell_type": "code",
   "execution_count": 185,
   "id": "4dd3fd2e",
   "metadata": {},
   "outputs": [
    {
     "data": {
      "text/plain": [
       "1"
      ]
     },
     "execution_count": 185,
     "metadata": {},
     "output_type": "execute_result"
    }
   ],
   "source": [
    "dof"
   ]
  },
  {
   "cell_type": "code",
   "execution_count": 189,
   "id": "07f401a7",
   "metadata": {},
   "outputs": [
    {
     "data": {
      "text/html": [
       "<div>\n",
       "<style scoped>\n",
       "    .dataframe tbody tr th:only-of-type {\n",
       "        vertical-align: middle;\n",
       "    }\n",
       "\n",
       "    .dataframe tbody tr th {\n",
       "        vertical-align: top;\n",
       "    }\n",
       "\n",
       "    .dataframe thead th {\n",
       "        text-align: right;\n",
       "    }\n",
       "</style>\n",
       "<table border=\"1\" class=\"dataframe\">\n",
       "  <thead>\n",
       "    <tr style=\"text-align: right;\">\n",
       "      <th>smoker</th>\n",
       "      <th>Yes</th>\n",
       "      <th>No</th>\n",
       "    </tr>\n",
       "    <tr>\n",
       "      <th>sex</th>\n",
       "      <th></th>\n",
       "      <th></th>\n",
       "    </tr>\n",
       "  </thead>\n",
       "  <tbody>\n",
       "    <tr>\n",
       "      <th>Male</th>\n",
       "      <td>60</td>\n",
       "      <td>97</td>\n",
       "    </tr>\n",
       "    <tr>\n",
       "      <th>Female</th>\n",
       "      <td>33</td>\n",
       "      <td>54</td>\n",
       "    </tr>\n",
       "  </tbody>\n",
       "</table>\n",
       "</div>"
      ],
      "text/plain": [
       "smoker  Yes  No\n",
       "sex            \n",
       "Male     60  97\n",
       "Female   33  54"
      ]
     },
     "execution_count": 189,
     "metadata": {},
     "output_type": "execute_result"
    }
   ],
   "source": [
    "observed_data"
   ]
  },
  {
   "cell_type": "code",
   "execution_count": 188,
   "id": "fa704ac0",
   "metadata": {},
   "outputs": [
    {
     "name": "stdout",
     "output_type": "stream",
     "text": [
      "(array([60, 97], dtype=int64), array([59.84016393, 97.15983607]))\n",
      "(array([33, 54], dtype=int64), array([33.15983607, 53.84016393]))\n"
     ]
    }
   ],
   "source": [
    "for i in zip(observed_data.values,expected):\n",
    "    print(i)"
   ]
  },
  {
   "cell_type": "code",
   "execution_count": 190,
   "id": "7e26d831",
   "metadata": {},
   "outputs": [
    {
     "name": "stdout",
     "output_type": "stream",
     "text": [
      "[60 97] [59.84016393 97.15983607]\n",
      "[33 54] [33.15983607 53.84016393]\n"
     ]
    }
   ],
   "source": [
    "for obj,exp in zip(observed_data.values,expected):\n",
    "    print(obj,exp)"
   ]
  },
  {
   "cell_type": "code",
   "execution_count": 191,
   "id": "354f4c69",
   "metadata": {},
   "outputs": [],
   "source": [
    "from scipy.stats import chi2\n",
    "chisquere_test=sum([(obj-exp)**2/exp for obj,exp in zip(observed_data.values,expected)])"
   ]
  },
  {
   "cell_type": "code",
   "execution_count": 192,
   "id": "352fedc9",
   "metadata": {},
   "outputs": [
    {
     "data": {
      "text/plain": [
       "array([0.00119737, 0.00073745])"
      ]
     },
     "execution_count": 192,
     "metadata": {},
     "output_type": "execute_result"
    }
   ],
   "source": [
    "chisquere_test"
   ]
  },
  {
   "cell_type": "code",
   "execution_count": 198,
   "id": "53fed0ad",
   "metadata": {},
   "outputs": [
    {
     "data": {
      "text/plain": [
       "0.001934818536627623"
      ]
     },
     "execution_count": 198,
     "metadata": {},
     "output_type": "execute_result"
    }
   ],
   "source": [
    "chisquere_statistics=chisquere_test[0]+chisquere_test[1]\n",
    "chisquere_statistics"
   ]
  },
  {
   "cell_type": "code",
   "execution_count": 194,
   "id": "ce3bad08",
   "metadata": {},
   "outputs": [],
   "source": [
    "alpha=0.05\n"
   ]
  },
  {
   "cell_type": "code",
   "execution_count": 197,
   "id": "fa9db543",
   "metadata": {},
   "outputs": [
    {
     "data": {
      "text/plain": [
       "3.841458820694124"
      ]
     },
     "execution_count": 197,
     "metadata": {},
     "output_type": "execute_result"
    }
   ],
   "source": [
    "critical_value=chi2.ppf(1-alpha,df=dof)\n",
    "critical_value"
   ]
  },
  {
   "cell_type": "code",
   "execution_count": 201,
   "id": "0792eb9c",
   "metadata": {},
   "outputs": [
    {
     "name": "stdout",
     "output_type": "stream",
     "text": [
      "Retain H0, there is a no relationship between 2 categorical variables\n"
     ]
    }
   ],
   "source": [
    "if chisquere_statistics >= critical_value:\n",
    "    print('Reject H0, there is a relationship between 2 categorical variables')\n",
    "else:\n",
    "    print('Retain H0, there is a no relationship between 2 categorical variables')\n"
   ]
  },
  {
   "cell_type": "code",
   "execution_count": 202,
   "id": "d8937d51",
   "metadata": {},
   "outputs": [],
   "source": [
    "p_value=1-chi2.cdf(x=chisquere_statistics,df=dof)"
   ]
  },
  {
   "cell_type": "code",
   "execution_count": 203,
   "id": "a01318a0",
   "metadata": {},
   "outputs": [
    {
     "data": {
      "text/plain": [
       "0.964915107315732"
      ]
     },
     "execution_count": 203,
     "metadata": {},
     "output_type": "execute_result"
    }
   ],
   "source": [
    "p_value"
   ]
  },
  {
   "cell_type": "code",
   "execution_count": 204,
   "id": "261464fa",
   "metadata": {},
   "outputs": [
    {
     "data": {
      "text/plain": [
       "1.0"
      ]
     },
     "execution_count": 204,
     "metadata": {},
     "output_type": "execute_result"
    }
   ],
   "source": [
    "pvalue"
   ]
  },
  {
   "cell_type": "code",
   "execution_count": 205,
   "id": "cd81db08",
   "metadata": {},
   "outputs": [
    {
     "name": "stdout",
     "output_type": "stream",
     "text": [
      "Retain H0, there is a no relationship between 2 categorical variables\n"
     ]
    }
   ],
   "source": [
    "if p_value <= alpha:\n",
    "    print('Reject H0, there is a relationship between 2 categorical variables')\n",
    "else:\n",
    "    print('Retain H0, there is a no relationship between 2 categorical variables')"
   ]
  },
  {
   "cell_type": "code",
   "execution_count": null,
   "id": "6f1110a9",
   "metadata": {},
   "outputs": [],
   "source": []
  }
 ],
 "metadata": {
  "kernelspec": {
   "display_name": "Python 3 (ipykernel)",
   "language": "python",
   "name": "python3"
  },
  "language_info": {
   "codemirror_mode": {
    "name": "ipython",
    "version": 3
   },
   "file_extension": ".py",
   "mimetype": "text/x-python",
   "name": "python",
   "nbconvert_exporter": "python",
   "pygments_lexer": "ipython3",
   "version": "3.11.4"
  }
 },
 "nbformat": 4,
 "nbformat_minor": 5
}
